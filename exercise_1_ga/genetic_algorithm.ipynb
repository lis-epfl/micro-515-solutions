{
 "cells": [
  {
   "cell_type": "markdown",
   "id": "4caa7760-e032-462d-94c0-ee96b57360f6",
   "metadata": {},
   "source": [
    "# Exercise 1: Genetic Algorithm\n",
    "The Genetic Algorithm (GA) is a powerful optimization and search technique based on the principles of natural selection and genetics. This exercise is designed to provide a hands-on experience with the GA\n",
    "\n",
    "### Basic Structure of the Genetic Algorithm:\n",
    "\n",
    "- Step 1. **Initial Population Generation:** Start by creating an initial population of potential solutions.\n",
    "- Step 2. **Fitness Evaluation:** Assess the fitness of each individual in the population to determine how well they solve the given problem.\n",
    "- Step 3. **Selection of the Fittest Individuals:** Employ a selection process to choose the best-performing individuals from the current population for reproduction.\n",
    "- Step 4. **Offspring Generation and Mutation Application:** Generate offspring through genetic operations like crossover and mutation, introducing new genetic variations.\n",
    "\n",
    "### Iterative Process:\n",
    "- Repeat Steps 2 to 4 iteratively until the algorithm converges on an optimal solution or reaches a predefined maximum number of generations. This iterative process allows the GA to evolve increasingly better solutions over time."
   ]
  },
  {
   "cell_type": "markdown",
   "id": "103f413f-29fb-4ecf-952e-27b756e8a2ce",
   "metadata": {
    "tags": []
   },
   "source": [
    "## Import libraries"
   ]
  },
  {
   "cell_type": "code",
   "execution_count": 20,
   "id": "c3d051aa-9c16-4d89-8f60-affebc5ae30c",
   "metadata": {
    "execution": {
     "iopub.execute_input": "2024-02-16T14:21:47.283444Z",
     "iopub.status.busy": "2024-02-16T14:21:47.282758Z",
     "iopub.status.idle": "2024-02-16T14:21:47.632865Z",
     "shell.execute_reply": "2024-02-16T14:21:47.630480Z",
     "shell.execute_reply.started": "2024-02-16T14:21:47.283376Z"
    },
    "tags": []
   },
   "outputs": [],
   "source": [
    "import numpy as np\n",
    "\n",
    "%run assets/utility.py\n",
    "np.set_printoptions(precision=4, suppress=True) # for better printing"
   ]
  },
  {
   "cell_type": "markdown",
   "id": "c48d54bd-e853-4122-bb0d-18af729947be",
   "metadata": {},
   "source": [
    "## Genetic Representation\n",
    "\n",
    "The effectiveness of a Genetic Algorithm (GA) relies heavily on how solutions to the problem are represented. For this exercise, we'll use a discrete binary representation, encoding our phenotypes as sequences of binary digits (`0` or `1`). This approach simplifies the manipulation and evaluation of potential solutions within our genetic framework.\n",
    "\n",
    "---\n",
    "### **Assignment**\n",
    "Implement the `generate_initial_population`-function generating our population matrix. Each field of our matrix or gene stores either `0` or `1` in our discrete binary representation. Randomly initiate the values of our initial population.\n",
    "\n",
    "Your task is to implement the `generate_initial_population` function, which will initialize our population. This function should create a population matrix where each entry, or gene, is randomly set to either `0` or `1`, representing our discrete binary genotype encoding.\n",
    "\n",
    "The resulting population should be structured as follows, with `n` representing the number of genes per offspring and `m` the total number of offspring:\n",
    "\n",
    "|   | Gene 1   | Gene 2   | $\\cdots$   | Gene n   |\n",
    "|:---:|:---:|:---:|:---:|:---:|\n",
    "| Offspring 1   | $\\dots$  | $\\dots$  |  $\\dots$ |  $\\dots$ |\n",
    "| Offspring 2  | $\\dots$  |  $\\dots$ | $\\dots$  |  $\\dots$ |\n",
    "| $\\vdots$  | $\\dots$ | $\\dots$  | $\\dots$  | $\\dots$  |\n",
    "| Offspring m  |  $\\dots$ | $\\dots$  |  $\\dots$ | $\\dots$  |\n",
    "\n",
    "1. **Random Initialization:** Generate the initial values of our population matrix randomly to ensure a diverse starting point.\n",
    "2. **Return Shape:** The function should return a population matrix with the specified shape, allowing for easy manipulation and evaluation in subsequent steps of the GA.\n",
    "\n",
    "### **Hints**\n",
    "NumPy offers efficient methods for generating random binary arrays, which can be utilized to initialize the population matrix:\n",
    "\n",
    "- [`np.random.randint`](https://numpy.org/doc/stable/reference/random/generated/numpy.random.randint.html) can be used with parameters 0 and 2 to generate binary values.\n",
    "- [`np.random.choice`](https://numpy.org/doc/stable/reference/random/generated/numpy.random.choice.html) with choices `[0, 1]` provides an alternative method for binary generation.\n",
    "\n",
    "You can either directly generate multi-dimensional arrays by using the `size`-parameters of NumPy or manually by using two nested `for`-loops.\n",
    "\n",
    "---"
   ]
  },
  {
   "cell_type": "code",
   "execution_count": 21,
   "id": "b813086d-e769-46c2-bb80-2b9a44f04346",
   "metadata": {
    "execution": {
     "iopub.execute_input": "2024-02-16T14:21:47.638875Z",
     "iopub.status.busy": "2024-02-16T14:21:47.637901Z",
     "iopub.status.idle": "2024-02-16T14:21:47.648474Z",
     "shell.execute_reply": "2024-02-16T14:21:47.646751Z",
     "shell.execute_reply.started": "2024-02-16T14:21:47.638803Z"
    },
    "tags": []
   },
   "outputs": [],
   "source": [
    "def generate_initial_population(population_size, chromosome_length):\n",
    "    population = ...\n",
    "    return population"
   ]
  },
  {
   "cell_type": "code",
   "execution_count": 22,
   "id": "9d13051a-38b6-4c79-984a-569dccb2f033",
   "metadata": {
    "execution": {
     "iopub.execute_input": "2024-02-16T14:21:47.651335Z",
     "iopub.status.busy": "2024-02-16T14:21:47.650530Z",
     "iopub.status.idle": "2024-02-16T14:21:47.717471Z",
     "shell.execute_reply": "2024-02-16T14:21:47.715278Z",
     "shell.execute_reply.started": "2024-02-16T14:21:47.651287Z"
    },
    "tags": []
   },
   "outputs": [],
   "source": [
    "# Solution 1:\n",
    "def generate_initial_population(population_size, chromosome_length):\n",
    "    population = np.zeros((population_size, chromosome_length))\n",
    "    \n",
    "    chromosome = np.random.randint(0, 2, size=(chromosome_length,))\n",
    "    for i in range(population_size):\n",
    "        np.random.shuffle(chromosome) # shuffles in-place\n",
    "        population[i,:] = chromosome\n",
    "        \n",
    "    return population"
   ]
  },
  {
   "cell_type": "code",
   "execution_count": 23,
   "id": "1172350e-f6eb-4763-982d-43cbd4d59599",
   "metadata": {
    "execution": {
     "iopub.execute_input": "2024-02-16T14:21:47.721350Z",
     "iopub.status.busy": "2024-02-16T14:21:47.720652Z",
     "iopub.status.idle": "2024-02-16T14:21:47.767321Z",
     "shell.execute_reply": "2024-02-16T14:21:47.765063Z",
     "shell.execute_reply.started": "2024-02-16T14:21:47.721286Z"
    },
    "tags": []
   },
   "outputs": [],
   "source": [
    "# Solution 2:\n",
    "def generate_initial_population(population_size, chromosome_length):\n",
    "    binary_values = [0, 1]\n",
    "    probabilities = [0.5, 0.5]\n",
    "    population = np.random.choice(binary_values, size=(population_size, chromosome_length), p=probabilities)\n",
    "\n",
    "    return population"
   ]
  },
  {
   "cell_type": "code",
   "execution_count": 24,
   "id": "c5a698c0-8cf8-4f22-95c0-35a7cbe34920",
   "metadata": {
    "execution": {
     "iopub.execute_input": "2024-02-16T14:21:47.770242Z",
     "iopub.status.busy": "2024-02-16T14:21:47.769546Z",
     "iopub.status.idle": "2024-02-16T14:21:47.814370Z",
     "shell.execute_reply": "2024-02-16T14:21:47.812110Z",
     "shell.execute_reply.started": "2024-02-16T14:21:47.770175Z"
    },
    "tags": []
   },
   "outputs": [],
   "source": [
    "# Solution 3:\n",
    "def generate_initial_population(population_size, chromosome_length):\n",
    "    population = np.random.randint(0, 2, size=(population_size, chromosome_length))\n",
    "    return population"
   ]
  },
  {
   "cell_type": "code",
   "execution_count": 25,
   "id": "bd848a1c-188f-4925-846c-f350e09b7035",
   "metadata": {
    "execution": {
     "iopub.execute_input": "2024-02-16T14:21:47.817460Z",
     "iopub.status.busy": "2024-02-16T14:21:47.816763Z",
     "iopub.status.idle": "2024-02-16T14:21:47.864858Z",
     "shell.execute_reply": "2024-02-16T14:21:47.862614Z",
     "shell.execute_reply.started": "2024-02-16T14:21:47.817396Z"
    },
    "tags": []
   },
   "outputs": [
    {
     "name": "stdout",
     "output_type": "stream",
     "text": [
      "Population: (8, 5)\n",
      "[[1 0 0 0 1]\n",
      " [1 0 1 1 1]\n",
      " [1 1 0 1 0]\n",
      " [0 0 1 0 0]\n",
      " [0 0 0 1 1]\n",
      " [0 1 1 1 1]\n",
      " [1 1 1 1 0]\n",
      " [1 1 0 0 1]]\n"
     ]
    }
   ],
   "source": [
    "# Test your function:\n",
    "population_size = 8\n",
    "chromosome_length = 5\n",
    "\n",
    "population = generate_initial_population(population_size, chromosome_length)\n",
    "print(f\"Population: {population.shape}\\n{population}\")"
   ]
  },
  {
   "cell_type": "markdown",
   "id": "298c03a3-fe5e-4f7b-b538-53ee97370cd2",
   "metadata": {},
   "source": [
    "## Step 3: Select the best individuals from population with Tournament Selection\n",
    "\n",
    "Tournament selection is a method used to select individuals for the next generation's parents or survivors within a genetic algorithm. This method is effective for maintaining genetic diversity while favoring individuals with higher fitness.\n",
    "\n",
    "### Steps for tournament selection:\n",
    "1. **Random Selection:** Randomly select $k$ individuals from the population to participate in the tournament.\n",
    "2. **Determine the Winner:** Evaluate the fitness of these $k$ individuals and select the one with the highest fitness as the winner of the tournament.\n",
    "3. **Return Individuals:** After the tournament, return all participants to the original population pool.\n",
    "\n",
    "---\n",
    "### **Assignment**\n",
    "Implement the `tournament_selection` function following the steps outlined above and as discussed in the lecture. For this function, we assume that the fitness of each solution is already evaluated, stored in the array `fitness` and to our function as attribute. `population` follows the definition from the previous step and `tournament_size` is a simple integer number specifying the number of competing solutions.\n",
    "\n",
    "### **Hints**\n",
    "- Shape Adjustment: Ensure that the selected individual's data structure is correctly formatted for subsequent processing. For instance, if you have an array of shape `(12,)`, it should be reshaped to `(1, 12)` to maintain consistency in data handling. This can be accomplished using:\n",
    "\n",
    "```python\n",
    "reshaped_array = array.reshape(1, -1)\n",
    "```\n",
    "This ensures that the selected individual is compatible with the rest of the algorithm's operations.\n",
    "\n",
    "---"
   ]
  },
  {
   "cell_type": "code",
   "execution_count": 26,
   "id": "a8dbfee9-6357-49f0-a840-f780c05d8bd1",
   "metadata": {
    "execution": {
     "iopub.execute_input": "2024-02-16T14:21:47.872919Z",
     "iopub.status.busy": "2024-02-16T14:21:47.872192Z",
     "iopub.status.idle": "2024-02-16T14:21:47.914796Z",
     "shell.execute_reply": "2024-02-16T14:21:47.912369Z",
     "shell.execute_reply.started": "2024-02-16T14:21:47.872848Z"
    },
    "tags": []
   },
   "outputs": [],
   "source": [
    "def tournament_selection(population, fitness, tournament_size):\n",
    "    best_individual_from_tournamet = ...\n",
    "    return best_individual_from_tournamet"
   ]
  },
  {
   "cell_type": "code",
   "execution_count": 27,
   "id": "75dea83e-0200-4f3b-96d8-b42cf9004d00",
   "metadata": {
    "execution": {
     "iopub.execute_input": "2024-02-16T14:21:47.918635Z",
     "iopub.status.busy": "2024-02-16T14:21:47.917221Z",
     "iopub.status.idle": "2024-02-16T14:21:47.963668Z",
     "shell.execute_reply": "2024-02-16T14:21:47.961342Z",
     "shell.execute_reply.started": "2024-02-16T14:21:47.918561Z"
    },
    "tags": []
   },
   "outputs": [],
   "source": [
    "# Solution 1:\n",
    "def tournament_selection(population, fitness, tournament_size):\n",
    "    indices_list = np.random.choice(len(population), tournament_size, replace=False)\n",
    "    chosen_parents = np.array([population[i] for i in indices_list])\n",
    "    parent_fitnesses = np.array([fitnesses[i] for i in indices_list])\n",
    "    max_fitness_idx = np.argmax(parent_fitnesses)\n",
    "\n",
    "    return chosen_parents[max_fitness_idx].reshape(1, -1)"
   ]
  },
  {
   "cell_type": "code",
   "execution_count": 28,
   "id": "61cca675-89d9-4f8d-84b3-6cb59022c0b1",
   "metadata": {
    "execution": {
     "iopub.execute_input": "2024-02-16T14:21:47.966951Z",
     "iopub.status.busy": "2024-02-16T14:21:47.966204Z",
     "iopub.status.idle": "2024-02-16T14:21:48.011103Z",
     "shell.execute_reply": "2024-02-16T14:21:48.009100Z",
     "shell.execute_reply.started": "2024-02-16T14:21:47.966888Z"
    },
    "tags": []
   },
   "outputs": [],
   "source": [
    "# Solution 2:\n",
    "def tournament_selection(population, fitnesses, tournament_size):\n",
    "    # Choose tournament participants\n",
    "    indices = np.random.choice(population.shape[0], tournament_size, replace=False)\n",
    "    \n",
    "    # Evaluate winner\n",
    "    contenders_fitness = fitnesses[indices]\n",
    "    max_contenders_fitness_index = np.argmax(contenders_fitness)\n",
    "    winner_index = indices[max_contenders_fitness_index]\n",
    "    \n",
    "    winner = population[winner_index,:]\n",
    "    \n",
    "    return winner.reshape(1, -1)"
   ]
  },
  {
   "cell_type": "code",
   "execution_count": 29,
   "id": "040a296c-0dc4-4b7c-8729-fb774926a1d8",
   "metadata": {
    "execution": {
     "iopub.execute_input": "2024-02-16T14:21:48.014111Z",
     "iopub.status.busy": "2024-02-16T14:21:48.013423Z",
     "iopub.status.idle": "2024-02-16T14:21:48.136360Z",
     "shell.execute_reply": "2024-02-16T14:21:48.134115Z",
     "shell.execute_reply.started": "2024-02-16T14:21:48.014050Z"
    },
    "tags": []
   },
   "outputs": [
    {
     "name": "stdout",
     "output_type": "stream",
     "text": [
      "Fitness:\n",
      "[0.7041 0.8139 0.0147 0.4822 0.7898 0.579  0.6071 0.2967] at 1\n",
      "Population:\n",
      "[[1 1 1 0 0 1 0 1 1 1 0 1]\n",
      " [0 0 0 0 1 1 1 1 0 1 1 0]\n",
      " [0 1 1 1 1 0 1 0 1 0 1 0]\n",
      " [0 0 1 1 0 0 1 1 0 1 1 1]\n",
      " [0 0 0 1 0 1 1 0 0 0 1 0]\n",
      " [1 1 1 0 0 1 0 0 0 1 0 1]\n",
      " [0 0 1 1 0 0 0 0 1 0 0 1]\n",
      " [1 1 0 1 1 0 0 1 0 1 1 1]]\n",
      "Tournament winner: [[0 0 0 0 1 1 1 1 0 1 1 0]] at 1\n",
      "Tournament winner shape: (1, 12)\n"
     ]
    }
   ],
   "source": [
    "# Test your function\n",
    "population_size = 8\n",
    "chromosome_length = 12\n",
    "\n",
    "population = np.random.randint(0, 2, size=(population_size, chromosome_length))\n",
    "fitness = np.random.uniform(size=(population_size,))\n",
    "tournament_size = 8 # we can only test for the full population, otherwise you need to add prints in your function.\n",
    "\n",
    "winner = tournament_selection(population, fitness, tournament_size)\n",
    "\n",
    "print(f\"Fitness:\\n{fitness} at {np.argmax(fitness)}\")\n",
    "print(f\"Population:\\n{population}\")\n",
    "\n",
    "index = search_index_in_columns(population, winner)\n",
    "print(f\"Tournament winner: {winner} at {index}\")\n",
    "print(f\"Tournament winner shape: {winner.shape}\")"
   ]
  },
  {
   "cell_type": "markdown",
   "id": "f757e423-bd27-4c7a-95ea-010754b327a2",
   "metadata": {},
   "source": [
    "## Step 4a: Crossover\n",
    "\n",
    "Crossover is a process inspired by natural reproduction, allowing for the recombination of genetic material to create new offspring. In this step, we'll implement a simple one-point reciprocal crossover.\n",
    "\n",
    "<img src=\"assets/one-point-crossover.png\" width=\"550\">\n",
    "\n",
    "---\n",
    "### **Assignment**\n",
    "Implement the `stochastic_one_point_crossover`-function to perform a one-point crossover on chromosomes.\n",
    "1. **Select a Crossover Point:** Choose a random index `idx` along the chromosome that will serve as the point for slicing and recombining the genetic material.\n",
    "2. **Recombine to form new chromosomes:** Use the chosen index to interchange segments between two chromosomes, producing two unique offspring, as depicted in the provided figure.\n",
    "3. **Introduce Stochastic Crossover:** Implement a probability check for performing the crossover, determined by a `cross_probability` parameter. If a randomly generated number is lower than this probability, the crossover is skipped, and the original parents are returned unchanged as children. If the number is higher, proceed with the crossover.\n",
    "\n",
    "`parent_1` and `parent_2` stores each the parameter / genotype vector as 1D array. `cross_probability` is a float number between 0 and 1 $[0, 1]$. \n",
    "\n",
    "### **Hint**\n",
    "\n",
    "- **Slicing Arrays:** Use NumPy's indexing to slice arrays. For a single dimension:\n",
    "\n",
    "```python\n",
    "array_slice = array_1[0:index]\n",
    "```\n",
    "When dealing with multi-dimensional data, such as column vectors, specify the row and column for slicing:\n",
    "\n",
    "```python\n",
    "array_slice = array_1[0, 0:index]\n",
    "```\n",
    "\n",
    "- **Merging Slices:** Combine two slices using `np.concatenate` or `np.hstack`. `np.vstack` is not suitable for this operation.\n",
    "- **Debugging Tips:** Insert print statements to debug your function. Ensure to remove these once your code functions correctly to maintain clean and efficient code execution.\n",
    "\n",
    "---"
   ]
  },
  {
   "cell_type": "code",
   "execution_count": 30,
   "id": "38be1c2b-92f3-4337-8aff-461c19c89b48",
   "metadata": {
    "execution": {
     "iopub.execute_input": "2024-02-16T14:21:48.139192Z",
     "iopub.status.busy": "2024-02-16T14:21:48.138529Z",
     "iopub.status.idle": "2024-02-16T14:21:48.180312Z",
     "shell.execute_reply": "2024-02-16T14:21:48.178134Z",
     "shell.execute_reply.started": "2024-02-16T14:21:48.139137Z"
    },
    "tags": []
   },
   "outputs": [],
   "source": [
    "def stochastic_one_point_crossover(parent_1, parent_2, cross_probability):\n",
    "    ..."
   ]
  },
  {
   "cell_type": "code",
   "execution_count": 31,
   "id": "470e5e27-1f91-4c39-9463-a4807f8ca36f",
   "metadata": {
    "execution": {
     "iopub.execute_input": "2024-02-16T14:21:48.183229Z",
     "iopub.status.busy": "2024-02-16T14:21:48.182518Z",
     "iopub.status.idle": "2024-02-16T14:21:48.230362Z",
     "shell.execute_reply": "2024-02-16T14:21:48.228027Z",
     "shell.execute_reply.started": "2024-02-16T14:21:48.183167Z"
    },
    "tags": []
   },
   "outputs": [],
   "source": [
    "# Solution 1:\n",
    "def stochastic_one_point_crossover(parent_1, parent_2, crossover_probability):\n",
    "    if np.random.rand() < crossover_probability:\n",
    "        idx = np.random.randint(1, parent_1.shape[1])\n",
    "        \n",
    "        child_1 = np.concatenate((parent_1[0, :idx], parent_2[0, idx:]))\n",
    "        child_2 = np.concatenate((parent_2[0, :idx], parent_1[0, idx:]))\n",
    "        \n",
    "        return child_1, child_2\n",
    "    else:\n",
    "        child_1 = parent_1\n",
    "        child_2 = parent_2\n",
    "        \n",
    "        return child_1, child_2"
   ]
  },
  {
   "cell_type": "code",
   "execution_count": 32,
   "id": "430f3c3f-e4c7-47c4-8c9d-573dd97e9baf",
   "metadata": {
    "execution": {
     "iopub.execute_input": "2024-02-16T14:21:48.233682Z",
     "iopub.status.busy": "2024-02-16T14:21:48.233022Z",
     "iopub.status.idle": "2024-02-16T14:21:48.276766Z",
     "shell.execute_reply": "2024-02-16T14:21:48.274325Z",
     "shell.execute_reply.started": "2024-02-16T14:21:48.233623Z"
    },
    "tags": []
   },
   "outputs": [],
   "source": [
    "# Solution 2:\n",
    "def stochastic_one_point_crossover(parent_1, parent_2, crossover_probability):\n",
    "    if np.random.rand() >= crossover_probability:\n",
    "        return parent_1, parent_2\n",
    "    \n",
    "    idx = np.random.randint(low=1, high=parent_1.shape[1])\n",
    "    \n",
    "    child_1 = np.concatenate((parent_1[0, :idx], parent_2[0, idx:]))\n",
    "    child_2 = np.concatenate((parent_2[0, :idx], parent_1[0, idx:]))\n",
    "    \n",
    "    child_1 = child_1.reshape(1, -1)\n",
    "    child_2 = child_2.reshape(1, -1)\n",
    "    \n",
    "    return child_1, child_2"
   ]
  },
  {
   "cell_type": "code",
   "execution_count": 33,
   "id": "d21e7606-52d0-4525-8782-53a2ab07f30f",
   "metadata": {
    "execution": {
     "iopub.execute_input": "2024-02-16T14:21:48.280344Z",
     "iopub.status.busy": "2024-02-16T14:21:48.279613Z",
     "iopub.status.idle": "2024-02-16T14:21:48.346352Z",
     "shell.execute_reply": "2024-02-16T14:21:48.343411Z",
     "shell.execute_reply.started": "2024-02-16T14:21:48.280283Z"
    },
    "tags": []
   },
   "outputs": [
    {
     "name": "stdout",
     "output_type": "stream",
     "text": [
      "Parent 1: [[0 1 1 1 1 1]]\n",
      "Parent 2: [[0 1 0 0 1 1]]\n",
      "\n",
      "Child 1: [[0 1 1 1 1 1]]\n",
      "Child 2: [[0 1 0 0 1 1]]\n",
      "\n",
      "Parent 1 shape: (1, 6)\n",
      "Parent 2 shape: (1, 6)\n",
      "\n",
      "Child 1 shape: (1, 6)\n",
      "Child 2 shape: (1, 6)\n",
      "\n"
     ]
    }
   ],
   "source": [
    "# Test your function:\n",
    "chromosome_length = 6\n",
    "crossover_probability = 1.0\n",
    "\n",
    "parent_1 = np.random.randint(0, 2, size=(1, chromosome_length))\n",
    "parent_2 = np.random.randint(0, 2, size=(1, chromosome_length))\n",
    "\n",
    "child_1, child_2 = stochastic_one_point_crossover(parent_1, parent_2, crossover_probability)\n",
    "\n",
    "print(f\"Parent 1: {parent_1}\\nParent 2: {parent_2}\\n\")\n",
    "print(f\"Child 1: {child_1}\\nChild 2: {child_2}\\n\")\n",
    "\n",
    "print(f\"Parent 1 shape: {parent_1.shape}\\nParent 2 shape: {parent_2.shape}\\n\")\n",
    "print(f\"Child 1 shape: {child_1.shape}\\nChild 2 shape: {child_2.shape}\\n\")"
   ]
  },
  {
   "cell_type": "markdown",
   "id": "968b03ed-fe9e-435a-ba5f-79907c3d7fa0",
   "metadata": {},
   "source": [
    "## Step 4b: Mutation\n",
    "\n",
    "Mutation plays a critical role in the process of evolution, introducing variations in the genes of organisms, which can be triggered by environmental factors. These genetic alterations are key to exploring new solutions and enhancing diversity within a population.\n",
    "\n",
    "---\n",
    "### **Assignment**\n",
    "Implement the function `mutate_genotypes` to introduce mutations within the offspring population. Similar to crossover, introduce a probability that mutation appears. However, we decide individually for each gene of each population member if it mutates with `mutation_probability`.\n",
    "\n",
    "`population` follows the previous definition and is a 2D array. `mutation_probability` is a float number between 0 and 1 $[0,1]$.\n",
    "\n",
    "---"
   ]
  },
  {
   "cell_type": "code",
   "execution_count": 34,
   "id": "0d65ad2c-fb84-4f2a-a61d-7a85a0e966e2",
   "metadata": {
    "execution": {
     "iopub.execute_input": "2024-02-16T14:21:48.349515Z",
     "iopub.status.busy": "2024-02-16T14:21:48.348853Z",
     "iopub.status.idle": "2024-02-16T14:21:48.392405Z",
     "shell.execute_reply": "2024-02-16T14:21:48.389848Z",
     "shell.execute_reply.started": "2024-02-16T14:21:48.349453Z"
    }
   },
   "outputs": [],
   "source": [
    "def mutate_genotypes(population, mutation_probability):\n",
    "    ..."
   ]
  },
  {
   "cell_type": "code",
   "execution_count": 35,
   "id": "c42d719a-0d36-4a9a-b154-e208e4e0eabf",
   "metadata": {
    "execution": {
     "iopub.execute_input": "2024-02-16T14:21:48.396617Z",
     "iopub.status.busy": "2024-02-16T14:21:48.395111Z",
     "iopub.status.idle": "2024-02-16T14:21:48.443102Z",
     "shell.execute_reply": "2024-02-16T14:21:48.440920Z",
     "shell.execute_reply.started": "2024-02-16T14:21:48.396549Z"
    },
    "tags": []
   },
   "outputs": [],
   "source": [
    "# Solution 1:\n",
    "def mutate_genotypes(population, mutation_probability):\n",
    "    mutated_population = population.copy()\n",
    "\n",
    "    for i in range(len(population)):\n",
    "        for j in range(len(population[i])):\n",
    "            if np.random.rand() < mutation_probability:\n",
    "                if mutated_population[i][j] == 0:\n",
    "                    mutated_population[i][j] = 1\n",
    "                else:\n",
    "                    mutated_population[i][j] = 0\n",
    "\n",
    "    return mutated_population"
   ]
  },
  {
   "cell_type": "code",
   "execution_count": 36,
   "id": "fd8c408c-3ed3-4466-b09a-66671f73411a",
   "metadata": {
    "execution": {
     "iopub.execute_input": "2024-02-16T14:21:48.446332Z",
     "iopub.status.busy": "2024-02-16T14:21:48.445663Z",
     "iopub.status.idle": "2024-02-16T14:21:48.488270Z",
     "shell.execute_reply": "2024-02-16T14:21:48.485827Z",
     "shell.execute_reply.started": "2024-02-16T14:21:48.446269Z"
    },
    "tags": []
   },
   "outputs": [],
   "source": [
    "# Solution 2:\n",
    "def mutate_genotypes(population, mutation_probability):\n",
    "    # Create a boolean mask where True indicates potential mutation sites\n",
    "    mutation_mask = np.random.rand(*population.shape) < mutation_probability\n",
    "    \n",
    "    # Flip the bits where the mask is True\n",
    "    mutated_population = population ^ mutation_mask\n",
    "\n",
    "    return mutated_population"
   ]
  },
  {
   "cell_type": "code",
   "execution_count": 37,
   "id": "6e3af949-af8d-4c09-a96c-1ca4c4027cf4",
   "metadata": {
    "execution": {
     "iopub.execute_input": "2024-02-16T14:21:48.491883Z",
     "iopub.status.busy": "2024-02-16T14:21:48.491062Z",
     "iopub.status.idle": "2024-02-16T14:21:48.544377Z",
     "shell.execute_reply": "2024-02-16T14:21:48.542136Z",
     "shell.execute_reply.started": "2024-02-16T14:21:48.491779Z"
    },
    "tags": []
   },
   "outputs": [
    {
     "name": "stdout",
     "output_type": "stream",
     "text": [
      "Original population:\n",
      "[[1 1 0 0 1 1 1 1 0 1 0 1 1 1 0]\n",
      " [0 0 0 0 1 1 1 1 0 0 1 1 0 0 1]\n",
      " [0 0 0 1 1 1 1 0 1 0 1 1 1 0 0]\n",
      " [1 1 1 0 1 0 0 0 0 1 1 0 1 0 1]\n",
      " [1 0 0 1 0 1 0 1 1 0 1 1 0 0 0]\n",
      " [0 0 1 1 0 0 1 1 0 1 0 1 1 0 1]\n",
      " [0 0 0 0 0 1 1 1 0 0 1 0 1 0 1]\n",
      " [1 1 0 1 1 0 0 0 0 0 1 0 1 1 0]\n",
      " [0 1 0 1 0 1 0 1 0 0 1 1 0 1 1]\n",
      " [1 1 1 0 1 1 0 1 0 1 0 0 1 1 0]]\n",
      "\n",
      "Mutated population:\n",
      "[[1 1 0 \u001b[91m1\u001b[0m \u001b[91m0\u001b[0m 1 1 1 0 1 0 1 1 1 0]\n",
      " [0 0 0 0 1 1 1 1 0 0 1 1 0 0 1]\n",
      " [0 0 0 1 1 1 1 0 1 0 1 1 1 0 0]\n",
      " [1 1 1 0 1 0 0 0 0 \u001b[91m0\u001b[0m 1 0 1 0 1]\n",
      " [1 0 \u001b[91m1\u001b[0m 1 0 1 0 1 1 0 1 1 0 0 0]\n",
      " [0 0 1 1 0 0 1 1 0 1 0 1 1 0 1]\n",
      " [0 0 0 0 0 1 1 1 0 0 1 0 1 0 1]\n",
      " [1 1 0 \u001b[91m0\u001b[0m 1 0 0 \u001b[91m1\u001b[0m 0 0 1 0 1 1 0]\n",
      " [0 1 0 1 \u001b[91m1\u001b[0m 1 0 1 0 0 1 1 0 1 1]\n",
      " [1 1 1 \u001b[91m1\u001b[0m 1 1 0 1 0 1 0 0 1 1 0]]\n",
      "--> (mutations are highlighted)\n"
     ]
    }
   ],
   "source": [
    "# Test your function:\n",
    "mutation_probability = 0.05\n",
    "population_size = 10\n",
    "chromosome_length = 15\n",
    "\n",
    "population = np.random.randint(0, 2, size=(population_size, chromosome_length))\n",
    "\n",
    "mutated_population = mutate_genotypes(population, mutation_probability)\n",
    "\n",
    "print(f\"Original population:\\n{population}\\n\")\n",
    "print(\"Mutated population:\")\n",
    "highlight_mutations(population, mutated_population)\n",
    "print(\"--> (mutations are highlighted)\")"
   ]
  }
 ],
 "metadata": {
  "kernelspec": {
   "display_name": "Python3",
   "language": "python",
   "name": "python3"
  },
  "language_info": {
   "codemirror_mode": {
    "name": "ipython",
    "version": 3
   },
   "file_extension": ".py",
   "mimetype": "text/x-python",
   "name": "python",
   "nbconvert_exporter": "python",
   "pygments_lexer": "ipython3",
   "version": "3.11.5"
  }
 },
 "nbformat": 4,
 "nbformat_minor": 5
}
