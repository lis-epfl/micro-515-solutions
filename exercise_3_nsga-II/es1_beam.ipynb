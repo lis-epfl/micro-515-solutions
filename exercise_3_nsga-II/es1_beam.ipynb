{
 "cells": [
  {
   "cell_type": "markdown",
   "id": "aa192955-35a1-4dd2-9f19-00cebc828d5e",
   "metadata": {},
   "source": [
    "## Non-Dominated Sorting Genetic Algorithm II (NSGA-II)\n",
    "\n",
    "NSGA-II can be used to solve a multivariate, multi-objective optimization problems. For instance, here the objective is to minimize two objectives, a beam’s weight and deflection (functions f1 and f2), by finding a good combination of two variables, the beam's diameter, d, and length, l. \n",
    "\n",
    "When you run the code below, NSGA-II will look for a good solution for the two objectives. \n",
    "\n",
    "While setting up the optimisation algorithm, the user will have an idea about the possible range of each variable (d and l). For instance, here the diameter can be between 0.01 m and 0.05 m while the length can be between 0.2 m and 1.0 m. \n",
    "\n",
    "## Exercise 4\n",
    "\n",
    "- 4.1. Run the code below and observe the results you get from this type of genetic algorithm. What is the benefit of obtaining the first Pareto front rather than a single optimal solution?\n",
    "- 4.2. Try different values of ROW, P and E. How does this affect the first Pareto front? \n",
    "- 4.3. In the next block of code, \"Constraint handling\", try changing the the maximum stress and see how this changes the subset of the first Pareto front that the designer can choose from."
   ]
  },
  {
   "cell_type": "code",
   "execution_count": 1,
   "id": "dee066fa-9a4d-42d5-9f61-084dccfb4cc1",
   "metadata": {
    "execution": {
     "iopub.execute_input": "2024-02-19T13:55:43.909280Z",
     "iopub.status.busy": "2024-02-19T13:55:43.908524Z",
     "iopub.status.idle": "2024-02-19T13:55:45.165274Z",
     "shell.execute_reply": "2024-02-19T13:55:45.162939Z",
     "shell.execute_reply.started": "2024-02-19T13:55:43.909211Z"
    },
    "tags": []
   },
   "outputs": [
    {
     "ename": "Exception",
     "evalue": "File `'problem.ipynb'` not found.",
     "output_type": "error",
     "traceback": [
      "\u001b[0;31m---------------------------------------------------------------------------\u001b[0m",
      "\u001b[0;31mOSError\u001b[0m                                   Traceback (most recent call last)",
      "File \u001b[0;32m/opt/jlab-env/lib/python3.11/site-packages/IPython/core/magics/execution.py:716\u001b[0m, in \u001b[0;36mExecutionMagics.run\u001b[0;34m(self, parameter_s, runner, file_finder)\u001b[0m\n\u001b[1;32m    715\u001b[0m     fpath \u001b[38;5;241m=\u001b[39m arg_lst[\u001b[38;5;241m0\u001b[39m]\n\u001b[0;32m--> 716\u001b[0m     filename \u001b[38;5;241m=\u001b[39m \u001b[43mfile_finder\u001b[49m\u001b[43m(\u001b[49m\u001b[43mfpath\u001b[49m\u001b[43m)\u001b[49m\n\u001b[1;32m    717\u001b[0m \u001b[38;5;28;01mexcept\u001b[39;00m \u001b[38;5;167;01mIndexError\u001b[39;00m \u001b[38;5;28;01mas\u001b[39;00m e:\n",
      "File \u001b[0;32m/opt/jlab-env/lib/python3.11/site-packages/IPython/utils/path.py:90\u001b[0m, in \u001b[0;36mget_py_filename\u001b[0;34m(name)\u001b[0m\n\u001b[1;32m     89\u001b[0m         \u001b[38;5;28;01mreturn\u001b[39;00m py_name\n\u001b[0;32m---> 90\u001b[0m \u001b[38;5;28;01mraise\u001b[39;00m \u001b[38;5;167;01mIOError\u001b[39;00m(\u001b[38;5;124m\"\u001b[39m\u001b[38;5;124mFile `\u001b[39m\u001b[38;5;132;01m%r\u001b[39;00m\u001b[38;5;124m` not found.\u001b[39m\u001b[38;5;124m\"\u001b[39m \u001b[38;5;241m%\u001b[39m name)\n",
      "\u001b[0;31mOSError\u001b[0m: File `'problem.ipynb'` not found.",
      "\nThe above exception was the direct cause of the following exception:\n",
      "\u001b[0;31mException\u001b[0m                                 Traceback (most recent call last)",
      "Cell \u001b[0;32mIn[1], line 6\u001b[0m\n\u001b[1;32m      3\u001b[0m \u001b[38;5;28;01mimport\u001b[39;00m \u001b[38;5;21;01mmath\u001b[39;00m\n\u001b[1;32m      4\u001b[0m \u001b[38;5;28;01mimport\u001b[39;00m \u001b[38;5;21;01mnumpy\u001b[39;00m \u001b[38;5;28;01mas\u001b[39;00m \u001b[38;5;21;01mnp\u001b[39;00m\n\u001b[0;32m----> 6\u001b[0m \u001b[43mget_ipython\u001b[49m\u001b[43m(\u001b[49m\u001b[43m)\u001b[49m\u001b[38;5;241;43m.\u001b[39;49m\u001b[43mrun_line_magic\u001b[49m\u001b[43m(\u001b[49m\u001b[38;5;124;43m'\u001b[39;49m\u001b[38;5;124;43mrun\u001b[39;49m\u001b[38;5;124;43m'\u001b[39;49m\u001b[43m,\u001b[49m\u001b[43m \u001b[49m\u001b[38;5;124;43m'\u001b[39;49m\u001b[38;5;124;43mproblem.ipynb\u001b[39;49m\u001b[38;5;124;43m'\u001b[39;49m\u001b[43m)\u001b[49m\n\u001b[1;32m      7\u001b[0m get_ipython()\u001b[38;5;241m.\u001b[39mrun_line_magic(\u001b[38;5;124m'\u001b[39m\u001b[38;5;124mrun\u001b[39m\u001b[38;5;124m'\u001b[39m, \u001b[38;5;124m'\u001b[39m\u001b[38;5;124mevolution.ipynb\u001b[39m\u001b[38;5;124m'\u001b[39m)\n\u001b[1;32m      9\u001b[0m ROW \u001b[38;5;241m=\u001b[39m \u001b[38;5;241m7800\u001b[39m \u001b[38;5;66;03m# [kg/m^3] density of beam\u001b[39;00m\n",
      "File \u001b[0;32m/opt/jlab-env/lib/python3.11/site-packages/IPython/core/interactiveshell.py:2432\u001b[0m, in \u001b[0;36mInteractiveShell.run_line_magic\u001b[0;34m(self, magic_name, line, _stack_depth)\u001b[0m\n\u001b[1;32m   2430\u001b[0m     kwargs[\u001b[38;5;124m'\u001b[39m\u001b[38;5;124mlocal_ns\u001b[39m\u001b[38;5;124m'\u001b[39m] \u001b[38;5;241m=\u001b[39m \u001b[38;5;28mself\u001b[39m\u001b[38;5;241m.\u001b[39mget_local_scope(stack_depth)\n\u001b[1;32m   2431\u001b[0m \u001b[38;5;28;01mwith\u001b[39;00m \u001b[38;5;28mself\u001b[39m\u001b[38;5;241m.\u001b[39mbuiltin_trap:\n\u001b[0;32m-> 2432\u001b[0m     result \u001b[38;5;241m=\u001b[39m \u001b[43mfn\u001b[49m\u001b[43m(\u001b[49m\u001b[38;5;241;43m*\u001b[39;49m\u001b[43margs\u001b[49m\u001b[43m,\u001b[49m\u001b[43m \u001b[49m\u001b[38;5;241;43m*\u001b[39;49m\u001b[38;5;241;43m*\u001b[39;49m\u001b[43mkwargs\u001b[49m\u001b[43m)\u001b[49m\n\u001b[1;32m   2434\u001b[0m \u001b[38;5;66;03m# The code below prevents the output from being displayed\u001b[39;00m\n\u001b[1;32m   2435\u001b[0m \u001b[38;5;66;03m# when using magics with decorator @output_can_be_silenced\u001b[39;00m\n\u001b[1;32m   2436\u001b[0m \u001b[38;5;66;03m# when the last Python token in the expression is a ';'.\u001b[39;00m\n\u001b[1;32m   2437\u001b[0m \u001b[38;5;28;01mif\u001b[39;00m \u001b[38;5;28mgetattr\u001b[39m(fn, magic\u001b[38;5;241m.\u001b[39mMAGIC_OUTPUT_CAN_BE_SILENCED, \u001b[38;5;28;01mFalse\u001b[39;00m):\n",
      "File \u001b[0;32m/opt/jlab-env/lib/python3.11/site-packages/IPython/core/magics/execution.py:727\u001b[0m, in \u001b[0;36mExecutionMagics.run\u001b[0;34m(self, parameter_s, runner, file_finder)\u001b[0m\n\u001b[1;32m    725\u001b[0m     \u001b[38;5;28;01mif\u001b[39;00m os\u001b[38;5;241m.\u001b[39mname \u001b[38;5;241m==\u001b[39m \u001b[38;5;124m'\u001b[39m\u001b[38;5;124mnt\u001b[39m\u001b[38;5;124m'\u001b[39m \u001b[38;5;129;01mand\u001b[39;00m re\u001b[38;5;241m.\u001b[39mmatch(\u001b[38;5;124mr\u001b[39m\u001b[38;5;124m\"\u001b[39m\u001b[38;5;124m^\u001b[39m\u001b[38;5;124m'\u001b[39m\u001b[38;5;124m.*\u001b[39m\u001b[38;5;124m'\u001b[39m\u001b[38;5;124m$\u001b[39m\u001b[38;5;124m\"\u001b[39m,fpath):\n\u001b[1;32m    726\u001b[0m         warn(\u001b[38;5;124m'\u001b[39m\u001b[38;5;124mFor Windows, use double quotes to wrap a filename: \u001b[39m\u001b[38;5;132;01m%r\u001b[39;00m\u001b[38;5;124mun \u001b[39m\u001b[38;5;124m\"\u001b[39m\u001b[38;5;124mmypath\u001b[39m\u001b[38;5;130;01m\\\\\u001b[39;00m\u001b[38;5;124mmyfile.py\u001b[39m\u001b[38;5;124m\"\u001b[39m\u001b[38;5;124m'\u001b[39m)\n\u001b[0;32m--> 727\u001b[0m     \u001b[38;5;28;01mraise\u001b[39;00m \u001b[38;5;167;01mException\u001b[39;00m(msg) \u001b[38;5;28;01mfrom\u001b[39;00m \u001b[38;5;21;01me\u001b[39;00m\n\u001b[1;32m    728\u001b[0m \u001b[38;5;28;01mexcept\u001b[39;00m \u001b[38;5;167;01mTypeError\u001b[39;00m:\n\u001b[1;32m    729\u001b[0m     \u001b[38;5;28;01mif\u001b[39;00m fpath \u001b[38;5;129;01min\u001b[39;00m sys\u001b[38;5;241m.\u001b[39mmeta_path:\n",
      "\u001b[0;31mException\u001b[0m: File `'problem.ipynb'` not found."
     ]
    }
   ],
   "source": [
    "import matplotlib.pyplot as plt\n",
    "import matplotlib.patches as mpatches\n",
    "import math\n",
    "import numpy as np\n",
    "\n",
    "%run problem.ipynb\n",
    "%run evolution.ipynb\n",
    "\n",
    "ROW = 7800 # [kg/m^3] density of beam\n",
    "P = 2000 # [N] force applied to the end of the beam \n",
    "E = 207e9 # [Pa] young's modulus of beam\n",
    "\n",
    "def f1(d, l):\n",
    "    # minimize weight\n",
    "    return ROW * l * (np.pi * d**2) / 4.\n",
    "\n",
    "\n",
    "def f2(d, l):\n",
    "    # minimize deflecton\n",
    "    return 64. * P * l**3 / (3. * E * np.pi * d**4)\n",
    "\n",
    "# variable range:\n",
    "## d between 0.01 m and 0.05 m\n",
    "## l between 0.2 m and 1.0 m\n",
    "problem = Problem(num_of_variables=2, objectives=[f1, f2], variables_range=[(0.01, 0.05), (0.2, 1.0)], same_range=False, expand=True)\n",
    "evo = Evolution(problem, mutation_param=20, num_of_generations=100)\n",
    "func = []\n",
    "features = []\n",
    "for i in evo.evolve():\n",
    "    # print(i, i.objectives, i.features)\n",
    "    func.append(i.objectives)\n",
    "    features.append(i.features)\n",
    "\n",
    "function1 = [i[0] for i in func]\n",
    "function2 = [i[1] for i in func]\n",
    "plt.xlabel('Function 1: weight [kg]', fontsize=15)\n",
    "plt.ylabel('Function 2: deflection [m]', fontsize=15)\n",
    "for i in range(len(features)):\n",
    "    plt.plot(function1[i], function2[i], '.g')\n",
    "plt.show()\n"
   ]
  },
  {
   "cell_type": "markdown",
   "id": "61edaaea-3bfe-48de-8020-032531d60eb9",
   "metadata": {},
   "source": [
    "## Pareto front\n",
    "\n",
    "The green points in the plot above are the first Pareto front of the solutions found. This means that none of the green points are dominated by any of the other green points, but they all dominate every other solution that was found. The first Pareto front is therefore the set of solutions that are all as good as each other, i.e. there is not a single optimal point. This is because we are trying to minimise two objectives at the same time and, as you can see, reducing the deflection results in a higher weight and vice versa. \n",
    "\n",
    "## Constraint handling\n",
    "\n",
    "But then how does the designer choose from this set of good solutions? The choice can be narrowed down by looking at the constraints such as maximum stress and maximum deflection of the beam. If the maximum stress is 300 MPa and the maximum deflection is 0.005 m then we can use these to eliminate some of the first Pareto front solutions. \n",
    "\n",
    "Run the code below:"
   ]
  },
  {
   "cell_type": "code",
   "execution_count": null,
   "id": "957cbfe5-5066-440f-87f3-cda58f635dcb",
   "metadata": {
    "execution": {
     "iopub.status.busy": "2024-02-19T13:55:45.165949Z",
     "iopub.status.idle": "2024-02-19T13:55:45.166246Z",
     "shell.execute_reply": "2024-02-19T13:55:45.166114Z",
     "shell.execute_reply.started": "2024-02-19T13:55:45.166099Z"
    }
   },
   "outputs": [],
   "source": [
    "S_y = 300e6 # [Pa] # maximum stress\n",
    "DELTA_MAX = 0.005 # [m] maximum deflection\n",
    "\n",
    "def stress(d, l):\n",
    "    return 32. * P * l / (np.pi * d**3)\n",
    "\n",
    "function1 = [i[0] for i in func]\n",
    "function2 = [i[1] for i in func]\n",
    "plt.xlabel('Function 1: weight [kg]', fontsize=15)\n",
    "plt.ylabel('Function 2: deflection [m]', fontsize=15)\n",
    "plt.plot([0, 3],[DELTA_MAX, DELTA_MAX], '--r')\n",
    "plt.text(1.75, DELTA_MAX*1.1, f'Max Deflection={DELTA_MAX}m', color='r')\n",
    "\n",
    "# check max stress constraint. max stress <= S_y\n",
    "for i in range(len(features)):\n",
    "    if stress(features[i][0], features[i][1]) > S_y:\n",
    "        plt.plot(function1[i], function2[i], '.r')\n",
    "    else:\n",
    "        plt.plot(function1[i], function2[i], '.g')\n",
    "g_patch = mpatches.Patch(color='g', hatch=\".\", label='Stress(d,l) <= max')\n",
    "r_patch = mpatches.Patch(color='r', hatch=\".\", label='Stress(d,l) > max')\n",
    "plt.legend(handles=[g_patch, r_patch])\n",
    "# plt.scatter(function1, function2)\n",
    "plt.show()"
   ]
  },
  {
   "cell_type": "markdown",
   "id": "79a1f964-beaf-4970-8aa3-f8d276da7c06",
   "metadata": {},
   "source": [
    "In the above code, we first calculated the stress in the beam for each pair of variables in the first Pareto front. The stresses were compared with the maximum stress and coloured red if they are greater. The maximum deflection was also plotted as the red dashed line. All solutions that met the stress requirements also met the deflection requirements and are coloured green. \n"
   ]
  },
  {
   "cell_type": "markdown",
   "id": "7bdcf61c-146e-489e-b387-4fefb782df1a",
   "metadata": {},
   "source": [
    "# Zoomed in\n",
    "\n",
    "Zooming in to the 2-objective Pareto front in the desirable stress region (green), we can see that there is still not a single optimal combination of the diameter and length of the beam. Although the deflection difference is small, there is still a trade-off between reducing the deflection and increasing the weight of the beam."
   ]
  },
  {
   "cell_type": "code",
   "execution_count": null,
   "id": "a6ba7304-a663-43d9-95ec-ad8cf0c3715a",
   "metadata": {
    "execution": {
     "iopub.status.busy": "2024-02-19T13:55:45.167731Z",
     "iopub.status.idle": "2024-02-19T13:55:45.168055Z",
     "shell.execute_reply": "2024-02-19T13:55:45.167914Z",
     "shell.execute_reply.started": "2024-02-19T13:55:45.167898Z"
    }
   },
   "outputs": [],
   "source": [
    "plt.xlabel('Function 1: weight [kg]', fontsize=15)\n",
    "plt.ylabel('Function 2: deflection [m]', fontsize=15)\n",
    "\n",
    "# check max stress constraint. max stress <= S_y\n",
    "for i in range(len(features)):\n",
    "    if stress(features[i][0], features[i][1]) > S_y:\n",
    "        plt.plot(function1[i], function2[i], '.r')\n",
    "    else:\n",
    "        plt.plot(function1[i], function2[i], '.g')\n",
    "g_patch = mpatches.Patch(color='g', hatch=\".\", label='Stress(d,l) <= max')\n",
    "r_patch = mpatches.Patch(color='r', hatch=\".\", label='Stress(d,l) > max')\n",
    "plt.legend(handles=[g_patch, r_patch])\n",
    "plt.ylim([0,0.002])\n",
    "# plt.scatter(function1, function2)\n",
    "plt.show()"
   ]
  },
  {
   "cell_type": "code",
   "execution_count": null,
   "id": "b1bce709-0e0b-45a7-b711-e884c39fe2cd",
   "metadata": {},
   "outputs": [],
   "source": []
  }
 ],
 "metadata": {
  "kernelspec": {
   "display_name": "Python3",
   "language": "python",
   "name": "python3"
  },
  "language_info": {
   "codemirror_mode": {
    "name": "ipython",
    "version": 3
   },
   "file_extension": ".py",
   "mimetype": "text/x-python",
   "name": "python",
   "nbconvert_exporter": "python",
   "pygments_lexer": "ipython3",
   "version": "3.11.5"
  }
 },
 "nbformat": 4,
 "nbformat_minor": 5
}
