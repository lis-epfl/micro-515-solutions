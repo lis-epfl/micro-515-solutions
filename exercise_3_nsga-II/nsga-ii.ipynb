{
 "cells": [
  {
   "cell_type": "markdown",
   "id": "00947d66-e2e0-47f9-b4a6-faaa2da9528e",
   "metadata": {},
   "source": [
    "# Multiobjective Optimization"
   ]
  },
  {
   "cell_type": "markdown",
   "id": "016caaa3-d794-4a5d-9075-27a06b98120d",
   "metadata": {},
   "source": [
    "## Imports"
   ]
  },
  {
   "cell_type": "code",
   "execution_count": 1,
   "id": "d2ec6292-4aab-4a37-80ee-32afbe53c127",
   "metadata": {
    "execution": {
     "iopub.execute_input": "2024-02-19T13:45:02.964482Z",
     "iopub.status.busy": "2024-02-19T13:45:02.963833Z",
     "iopub.status.idle": "2024-02-19T13:45:04.654390Z",
     "shell.execute_reply": "2024-02-19T13:45:04.653310Z",
     "shell.execute_reply.started": "2024-02-19T13:45:02.964380Z"
    },
    "tags": []
   },
   "outputs": [],
   "source": [
    "from tqdm.notebook import tqdm\n",
    "import random\n",
    "import numpy as np\n",
    "import seaborn as sns\n",
    "import matplotlib.pyplot as plt\n",
    "\n",
    "np.set_printoptions(precision=4, suppress=True) # for better printing\n",
    "sns.set_style(\"darkgrid\")"
   ]
  },
  {
   "cell_type": "markdown",
   "id": "fe3f3454-449a-4b2a-bc0a-fa20ab3328e7",
   "metadata": {},
   "source": [
    "# Nondominated Sorting Genetic Algorithm II (NSGA-II)\n",
    "\n",
    "Paper NSGA:\n",
    "> Srinivas, Nidamarthi, and Kalyanmoy Deb. \"Muiltiobjective optimization using nondominated sorting in genetic algorithms.\" Evolutionary computation 2, no. 3 (1994): 221-248.\n",
    "\n",
    "Paper NSGA-II:\n",
    "> Deb, Kalyanmoy, Samir Agrawal, Amrit Pratap, and Tanaka Meyarivan. \"A fast elitist non-dominated sorting genetic algorithm for multi-objective optimization: NSGA-II.\" In Parallel Problem Solving from Nature PPSN VI: 6th International Conference Paris, France, September 18–20, 2000 Proceedings 6, pp. 849-858. Springer Berlin Heidelberg, 2000.\n",
    "\n",
    "The princinple of NSGA-II is illustrated in the following:\n",
    "\n",
    "<img src=\"assets/nsga.png\" width=\"800\">\n",
    "\n",
    "\n",
    "### NSGA flowchart from lecture:\n",
    "<img src=\"assets/nsga_flowchart.png\" width=\"600\">\n",
    "Modified illustration from Srinivas & Deb 1994.\n",
    "\n",
    "### Optimization steps:\n",
    "In this exercise, we will implement the following steps to program the NSGA algorithm. Afterwards, we will modify our code to the NSGA-II algorithm.\n",
    "1. **Initialisation**: Create an initial population of random solutions.\n",
    "2. **Fitness Evaluation**: Evaluate the fitness of each solution based on the objectives.\n",
    "3. **Non-dominated Sorting**: Sort the population into different fronts based on Pareto dominance.\n",
    "4. **Selection**: Select parents for reproduction (e.g., using a tournament selection method based on rank and crowding distance).\n",
    "5. **Crossover and Mutation**: Generate new offspring by applying crossover and mutation operators.\n",
    "6. **Survivor Selection**: Merge parents and offspring and select the best solutions for the next generation.\n"
   ]
  },
  {
   "cell_type": "markdown",
   "id": "4458fbda-7e71-4d2a-ab0b-77a1e7a4b833",
   "metadata": {},
   "source": [
    "## Step 1: Initialise population"
   ]
  },
  {
   "cell_type": "code",
   "execution_count": 2,
   "id": "2527f691-78a2-46f2-a99d-8ffd226c66d7",
   "metadata": {
    "execution": {
     "iopub.execute_input": "2024-02-19T13:45:04.656840Z",
     "iopub.status.busy": "2024-02-19T13:45:04.656460Z",
     "iopub.status.idle": "2024-02-19T13:45:04.662870Z",
     "shell.execute_reply": "2024-02-19T13:45:04.661977Z",
     "shell.execute_reply.started": "2024-02-19T13:45:04.656816Z"
    },
    "tags": []
   },
   "outputs": [],
   "source": [
    "def initialise_population(population_size, num_parameters):\n",
    "    population = ...\n",
    "    return population"
   ]
  },
  {
   "cell_type": "code",
   "execution_count": 3,
   "id": "3e7cec6e-9772-42c8-8ac7-cfb25273c6e1",
   "metadata": {
    "execution": {
     "iopub.execute_input": "2024-02-19T13:45:04.664019Z",
     "iopub.status.busy": "2024-02-19T13:45:04.663746Z",
     "iopub.status.idle": "2024-02-19T13:45:04.714480Z",
     "shell.execute_reply": "2024-02-19T13:45:04.711561Z",
     "shell.execute_reply.started": "2024-02-19T13:45:04.663996Z"
    },
    "tags": []
   },
   "outputs": [],
   "source": [
    "# Solution\n",
    "def initialise_population(population_size, num_parameters, value_range=None):\n",
    "    if value_range is not None:\n",
    "        values  = [np.random.uniform(low=value_range[i][0], high=value_range[i][1], size=(population_size,)) for i in range(num_parameters)]\n",
    "        return np.array(values).T\n",
    "        \n",
    "    return np.random.uniform(low=0.2, high=1.0, size=(population_size, num_parameters))"
   ]
  },
  {
   "cell_type": "code",
   "execution_count": 29,
   "id": "396087aa-6a60-40c2-bb01-07401cd2a5d3",
   "metadata": {
    "execution": {
     "iopub.execute_input": "2024-02-19T14:52:57.605625Z",
     "iopub.status.busy": "2024-02-19T14:52:57.603312Z",
     "iopub.status.idle": "2024-02-19T14:52:57.627301Z",
     "shell.execute_reply": "2024-02-19T14:52:57.625060Z",
     "shell.execute_reply.started": "2024-02-19T14:52:57.605523Z"
    },
    "tags": []
   },
   "outputs": [
    {
     "name": "stdout",
     "output_type": "stream",
     "text": [
      "Population:\n",
      "[[0.8165 0.9834]\n",
      " [0.6979 0.6966]\n",
      " [0.3624 0.4131]\n",
      " [0.4273 0.536 ]\n",
      " [0.6745 0.8626]\n",
      " [0.6089 0.5582]\n",
      " [0.9513 0.2604]\n",
      " [0.427  0.2316]\n",
      " [0.9949 0.6455]\n",
      " [0.2251 0.7686]\n",
      " [0.2581 0.2188]\n",
      " [0.3101 0.8306]\n",
      " [0.3807 0.9244]\n",
      " [0.3198 0.7254]\n",
      " [0.7797 0.7612]\n",
      " [0.5166 0.8594]]\n",
      "Population:\n",
      "[[  22.7086 5796.218 ]\n",
      " [  -4.0778 4573.839 ]\n",
      " [  45.1798 2110.2286]\n",
      " [  46.7676 4477.3021]\n",
      " [  12.4392 8495.4548]\n",
      " [   4.3696 4717.3133]\n",
      " [  36.34   3755.7274]\n",
      " [  28.2268 2727.9241]\n",
      " [  -0.2507 8426.5474]\n",
      " [  37.5128 1077.2069]\n",
      " [  13.7059 1888.8776]\n",
      " [  27.6073 6489.537 ]\n",
      " [  28.1587 4568.5796]\n",
      " [   5.8462 6231.1054]\n",
      " [   2.913  8701.9758]\n",
      " [  48.7099 5849.5423]]\n"
     ]
    }
   ],
   "source": [
    "population_size = 16\n",
    "num_parameters = 2\n",
    "\n",
    "population = initialise_population(population_size, num_parameters)\n",
    "\n",
    "print(f\"Population:\\n{population}\")\n",
    "assert type(population) == np.ndarray\n",
    "\n",
    "population = initialise_population(population_size, num_parameters, value_range=[(-5, 50), (1e3, 1e4)])\n",
    "\n",
    "print(f\"Population:\\n{population}\")\n",
    "assert type(population) == np.ndarray"
   ]
  },
  {
   "cell_type": "markdown",
   "id": "1b282191-8f16-4f20-91bf-fba4d3b7ca57",
   "metadata": {},
   "source": [
    "## Step 2: Multi-objective fitness evaluation"
   ]
  },
  {
   "cell_type": "code",
   "execution_count": 5,
   "id": "bd7602d7-923e-4d26-bd40-56aea4844b04",
   "metadata": {
    "execution": {
     "iopub.execute_input": "2024-02-19T13:45:04.774351Z",
     "iopub.status.busy": "2024-02-19T13:45:04.773597Z",
     "iopub.status.idle": "2024-02-19T13:45:04.807750Z",
     "shell.execute_reply": "2024-02-19T13:45:04.804469Z",
     "shell.execute_reply.started": "2024-02-19T13:45:04.774295Z"
    },
    "tags": []
   },
   "outputs": [],
   "source": [
    "def evaluate_population(population, objective_functions):\n",
    "    fitness = ...\n",
    "    \n",
    "    return fitness"
   ]
  },
  {
   "cell_type": "code",
   "execution_count": 6,
   "id": "deaaeb71-5e3a-4250-8009-8f789ac6dd90",
   "metadata": {
    "execution": {
     "iopub.execute_input": "2024-02-19T13:45:04.811636Z",
     "iopub.status.busy": "2024-02-19T13:45:04.810904Z",
     "iopub.status.idle": "2024-02-19T13:45:04.857064Z",
     "shell.execute_reply": "2024-02-19T13:45:04.854609Z",
     "shell.execute_reply.started": "2024-02-19T13:45:04.811571Z"
    },
    "tags": []
   },
   "outputs": [],
   "source": [
    "# Solution\n",
    "def evaluate_population(population, objective_functions):\n",
    "    fitness = []\n",
    "    for individual_no in range(population.shape[0]):\n",
    "        individual = population[individual_no, :]\n",
    "        # uses list comprehension --> other way to use for loop.\n",
    "        fitness_objectives = [objective(*individual) for objective in objective_functions]\n",
    "        fitness.append(fitness_objectives)\n",
    "    return np.array(fitness)"
   ]
  },
  {
   "cell_type": "code",
   "execution_count": 7,
   "id": "f2c2e27a-c138-45d0-853e-b69ecf3500d4",
   "metadata": {
    "execution": {
     "iopub.execute_input": "2024-02-19T13:45:04.866255Z",
     "iopub.status.busy": "2024-02-19T13:45:04.865280Z",
     "iopub.status.idle": "2024-02-19T13:45:04.955359Z",
     "shell.execute_reply": "2024-02-19T13:45:04.953213Z",
     "shell.execute_reply.started": "2024-02-19T13:45:04.866181Z"
    },
    "tags": []
   },
   "outputs": [
    {
     "name": "stdout",
     "output_type": "stream",
     "text": [
      "1.7\n",
      "Population multiobjective fitness:\n",
      "[[1.5367 0.7683 0.5609 3.1416]\n",
      " [1.2927 0.6464 0.5135 3.1416]\n",
      " [1.0135 0.5067 0.4495 3.1416]\n",
      " [1.0556 0.5278 0.4755 3.1416]\n",
      " [1.1699 0.585  0.4511 3.1416]\n",
      " [0.7732 0.3866 0.3217 3.1416]\n",
      " [1.0368 0.5184 0.3409 3.1416]\n",
      " [0.9487 0.4743 0.4051 3.1416]\n",
      " [1.4776 0.7388 0.5147 3.1416]\n",
      " [1.4748 0.7374 0.4941 3.1416]\n",
      " [1.6497 0.8249 0.7718 3.1416]\n",
      " [1.51   0.755  0.7158 3.1416]\n",
      " [0.959  0.4795 0.237  3.1416]\n",
      " [1.4777 0.7388 0.6851 3.1416]\n",
      " [1.3695 0.6848 0.6466 3.1416]\n",
      " [1.572  0.786  0.6494 3.1416]\n",
      " [1.5614 0.7807 0.6809 3.1416]\n",
      " [1.1776 0.5888 0.3103 3.1416]\n",
      " [0.9151 0.4576 0.2171 3.1416]\n",
      " [0.956  0.478  0.2189 3.1416]]\n"
     ]
    }
   ],
   "source": [
    "# Test your function:\n",
    "population_size = 20\n",
    "num_parameters = 2\n",
    "\n",
    "def f_sum(x, y):\n",
    "    return np.sum([x,y])\n",
    "\n",
    "def f_mean(x, y):\n",
    "    return np.mean([x,y])\n",
    "\n",
    "def f_min(x, y):\n",
    "    return np.min([x,y])\n",
    "\n",
    "def f_constant(x, y):\n",
    "    return np.pi\n",
    "\n",
    "value = np.array([1.2, 0.5])\n",
    "print(f_sum(*value))\n",
    "\n",
    "population = initialise_population(population_size, num_parameters)\n",
    "\n",
    "# the objective list stores functions without assigned values.\n",
    "# You can iterate through objective functions and later assign values.\n",
    "objective_functions = [f_sum, f_mean, f_min, f_constant]\n",
    "\n",
    "multi_fitness = evaluate_population(population, objective_functions)\n",
    "print(f\"Population multiobjective fitness:\\n{multi_fitness}\")\n",
    "\n",
    "assert type(multi_fitness) == np.ndarray"
   ]
  },
  {
   "cell_type": "markdown",
   "id": "1a7656c1-35b6-40db-a6c8-43aa42e0560b",
   "metadata": {},
   "source": [
    "## Step 3: Non-dominated Sorting\n",
    "\n",
    "First we have to specify, when a solution dominates another. Remember, a solution dominates another if:\n",
    "1. $\\exists i \\in {1, \\dots, k}, f_i(x) \\leq f_i(y)$ --> Solution ($x$) is no worse than Solution ($y$) in all objectives.\n",
    "2. $\\exists i \\in {1, \\dots, k}, f_i(x) < f_i(y)$ --> Solution ($x$) is strictly better than Solution ($y$) in at least one objective.\n",
    "\n"
   ]
  },
  {
   "cell_type": "code",
   "execution_count": 8,
   "id": "089eb100-d74f-47bf-8989-7bbd83b60ead",
   "metadata": {
    "execution": {
     "iopub.execute_input": "2024-02-19T13:45:04.957907Z",
     "iopub.status.busy": "2024-02-19T13:45:04.957410Z",
     "iopub.status.idle": "2024-02-19T13:45:04.997418Z",
     "shell.execute_reply": "2024-02-19T13:45:04.993763Z",
     "shell.execute_reply.started": "2024-02-19T13:45:04.957858Z"
    }
   },
   "outputs": [],
   "source": [
    "def dominates(individual_1, individual_2):\n",
    "    return ... # boolean return"
   ]
  },
  {
   "cell_type": "code",
   "execution_count": 9,
   "id": "bfe505e1-6baf-444d-9bb2-6fc1021fb680",
   "metadata": {
    "execution": {
     "iopub.execute_input": "2024-02-19T13:45:05.000965Z",
     "iopub.status.busy": "2024-02-19T13:45:05.000272Z",
     "iopub.status.idle": "2024-02-19T13:45:05.049408Z",
     "shell.execute_reply": "2024-02-19T13:45:05.048048Z",
     "shell.execute_reply.started": "2024-02-19T13:45:05.000903Z"
    },
    "tags": []
   },
   "outputs": [],
   "source": [
    "# Solution\n",
    "def dominates(individual, other_individual):\n",
    "    return (all(x >= y for x, y in zip(individual, other_individual)) and\n",
    "            any(x > y for x, y in zip(individual, other_individual)))"
   ]
  },
  {
   "cell_type": "code",
   "execution_count": 10,
   "id": "0a6d1aba-dc7d-4a28-9c79-c8eb5740deb5",
   "metadata": {
    "execution": {
     "iopub.execute_input": "2024-02-19T13:45:05.051084Z",
     "iopub.status.busy": "2024-02-19T13:45:05.050625Z",
     "iopub.status.idle": "2024-02-19T13:45:05.389336Z",
     "shell.execute_reply": "2024-02-19T13:45:05.387982Z",
     "shell.execute_reply.started": "2024-02-19T13:45:05.051049Z"
    },
    "tags": []
   },
   "outputs": [
    {
     "name": "stdout",
     "output_type": "stream",
     "text": [
      "Dominance: False\n"
     ]
    },
    {
     "data": {
      "image/png": "[encoded data removed]",
      "text/plain": [
       "<Figure size 640x480 with 1 Axes>"
      ]
     },
     "metadata": {},
     "output_type": "display_data"
    }
   ],
   "source": [
    "# Test function:\n",
    "fitness_other_individual = np.array([3.8, 1.8])\n",
    "fitness_individual = np.array([2.7, 0.4])\n",
    "\n",
    "dominance = dominates(fitness_individual, fitness_other_individual)\n",
    "print(f\"Dominance: {dominance}\")\n",
    "\n",
    "# Plotting distances\n",
    "x1, y1 = fitness_individual\n",
    "x2, y2 = fitness_other_individual\n",
    "\n",
    "# Draw horizontal and vertical lines for distance\n",
    "plt.plot([x1, x2], [y1, y1], color='grey', linestyle='--', alpha=0.5)  # Horizontal line\n",
    "plt.plot([x2, x2], [y1, y2], color='grey', linestyle='--', alpha=0.5)  # Vertical line\n",
    "\n",
    "plt.scatter(*fitness_individual, color='blue')\n",
    "plt.scatter(*fitness_other_individual, color='red')\n",
    "\n",
    "plt.xlim([0.0, 5.0])\n",
    "plt.ylim([0.0, 5.0])\n",
    "plt.gca().set_aspect('equal', adjustable='box')\n",
    "\n",
    "# Adding labels and title for clarity\n",
    "plt.xlabel(\"X-axis\")\n",
    "plt.ylabel(\"Y-axis\")\n",
    "\n",
    "# Show the plot\n",
    "plt.show()"
   ]
  },
  {
   "cell_type": "markdown",
   "id": "a1d396a4-f806-4847-b100-b1ef4d9d7d19",
   "metadata": {
    "tags": []
   },
   "source": [
    "## Nondominant sorting / find Pareto fronts\n",
    "Core element of this algorithm is the nondominant sorting into Pareto fronts. For an efficient implementation of the non-dominant sorting, we split this step into two functions.\n",
    "\n",
    "<img src=\"assets/fast_nondominated_sort.png\" width=\"550\">\n",
    "\n",
    "### Source:\n",
    "> Deb, Kalyanmoy, Amrit Pratap, Sameer Agarwal, and T. A. M. T. Meyarivan. \"A fast and elitist multiobjective genetic algorithm: NSGA-II.\" IEEE transactions on evolutionary computation 6, no. 2 (2002): 182-197. https://ieeexplore.ieee.org/stamp/stamp.jsp?tp=&arnumber=996017\n",
    "\n",
    "----\n",
    "### **Assignment**\n",
    "Implement the function `evaluate_dominance`. The function evaluates for every combination of candidate fitness values, if one solution dominates or is dominated by another solution. We collect how often one specific solution is dominated and from which solutions it is dominated.\n",
    "1. We create a list with the index of every solution which the \n",
    "2. We create a list with a count how many times the respective solution is dominated for every solution\n",
    "3. Create a list, which we will use to directly collect our first Pareto front.\n",
    "----"
   ]
  },
  {
   "cell_type": "code",
   "execution_count": 11,
   "id": "ada2ece9-a583-4c69-9bc0-db242bbe8fcd",
   "metadata": {
    "execution": {
     "iopub.execute_input": "2024-02-19T13:45:05.390914Z",
     "iopub.status.busy": "2024-02-19T13:45:05.390615Z",
     "iopub.status.idle": "2024-02-19T13:45:05.405306Z",
     "shell.execute_reply": "2024-02-19T13:45:05.403753Z",
     "shell.execute_reply.started": "2024-02-19T13:45:05.390888Z"
    },
    "tags": []
   },
   "outputs": [],
   "source": [
    "# finds Pareto fronts\n",
    "def fast_nondominated_sort(fitness): \n",
    "    domination_lists = [[] for _ in range(len(fitness))]\n",
    "    domination_counts = [0 for _ in range(len(fitness))]\n",
    "    population_rank = [0 for _ in range(len(fitness))]\n",
    "    pareto_fronts = [[]]\n",
    "\n",
    "    for individual_a in range(len(fitness)):\n",
    "        for individual_b in range(len(fitness)):\n",
    "            \n",
    "            # does candidate 1 dominate candidate 2?\n",
    "            if dominates(fitness[individual_a], fitness[individual_b]):\n",
    "                # append index of dominating solution\n",
    "                domination_lists[individual_a].append(individual_b)\n",
    "            \n",
    "            # does candidate 2 dominate candidate 1?\n",
    "            elif dominates(fitness[individual_b], fitness[individual_a]):\n",
    "                # \n",
    "                domination_counts[individual_a] += 1\n",
    "        \n",
    "        # if solution dominates all\n",
    "        if domination_counts[individual_a] == 0:\n",
    "            # placeholder solution rank\n",
    "            population_rank[individual_a] = 0\n",
    "            \n",
    "            # add solution to first Pareto front\n",
    "            pareto_fronts[0].append(individual_a)\n",
    "    \n",
    "    # iterates until there are no more items appended in the last front \n",
    "    i = 0\n",
    "    while pareto_fronts[i]:\n",
    "        # open next front\n",
    "        next_front = []\n",
    "        \n",
    "        # iterate through all items in previous front\n",
    "        for individual_a in pareto_fronts[i]:\n",
    "            \n",
    "            # check all other items which are dominated by this item\n",
    "            for individual_b in domination_lists[individual_a]:\n",
    "                # reduce domination count\n",
    "                domination_counts[individual_b] -= 1\n",
    "                \n",
    "                # every now nondominated item are append to next front\n",
    "                if domination_counts[individual_b] == 0:\n",
    "                    \n",
    "                    # add solution rank\n",
    "                    population_rank[individual_b] = i + 1\n",
    "                    next_front.append(individual_b)\n",
    "                    \n",
    "        i += 1\n",
    "        \n",
    "        pareto_fronts.append(next_front)\n",
    "    \n",
    "    # removes last empty front\n",
    "    pareto_fronts.pop()\n",
    "    \n",
    "    return pareto_fronts, population_rank"
   ]
  },
  {
   "cell_type": "code",
   "execution_count": 12,
   "id": "c3d8ae25-c84e-445e-8740-e4868aa24a91",
   "metadata": {
    "execution": {
     "iopub.execute_input": "2024-02-19T13:45:05.406556Z",
     "iopub.status.busy": "2024-02-19T13:45:05.406288Z",
     "iopub.status.idle": "2024-02-19T13:45:07.064327Z",
     "shell.execute_reply": "2024-02-19T13:45:07.063094Z",
     "shell.execute_reply.started": "2024-02-19T13:45:05.406532Z"
    },
    "tags": []
   },
   "outputs": [
    {
     "name": "stdout",
     "output_type": "stream",
     "text": [
      "Number of discovered Pareto fronts: 47\n"
     ]
    },
    {
     "data": {
      "image/png": "[encoded data removed]",
      "text/plain": [
       "<Figure size 640x480 with 1 Axes>"
      ]
     },
     "metadata": {},
     "output_type": "display_data"
    }
   ],
   "source": [
    "# Test your function:\n",
    "population_size = 512\n",
    "num_parameters = 8\n",
    "num_objectives = 2\n",
    "\n",
    "population = np.random.uniform(size=(population_size, num_parameters))\n",
    "fitness = 10.0 * np.random.uniform(size=(population_size, num_objectives))\n",
    "\n",
    "pareto_fronts, population_rank = fast_nondominated_sort(fitness)\n",
    "print(f\"Number of discovered Pareto fronts: {len(pareto_fronts)}\")\n",
    "      \n",
    "fig, ax = plt.subplots()\n",
    "color_map = plt.cm.gist_ncar(np.linspace(0, 1, len(pareto_fronts)))\n",
    "for i, front in enumerate(pareto_fronts):\n",
    "    values = fitness[front]\n",
    "    ax.scatter(values[:, 0], values[:, 1], color=color_map[i])\n",
    "\n",
    "plt.show()"
   ]
  },
  {
   "cell_type": "code",
   "execution_count": 13,
   "id": "7bbdb41d-bc7f-4cd2-9558-7a5d0b22309e",
   "metadata": {
    "execution": {
     "iopub.execute_input": "2024-02-19T13:45:07.065780Z",
     "iopub.status.busy": "2024-02-19T13:45:07.065477Z",
     "iopub.status.idle": "2024-02-19T13:45:07.383566Z",
     "shell.execute_reply": "2024-02-19T13:45:07.382458Z",
     "shell.execute_reply.started": "2024-02-19T13:45:07.065753Z"
    },
    "tags": []
   },
   "outputs": [
    {
     "data": {
      "image/png": "[encoded data removed]",
      "text/plain": [
       "<Figure size 640x480 with 1 Axes>"
      ]
     },
     "metadata": {},
     "output_type": "display_data"
    }
   ],
   "source": [
    "num_bins = len(pareto_fronts)\n",
    "\n",
    "fig, ax = plt.subplots()\n",
    "\n",
    "# Create the histogram on the specified axis\n",
    "ax.hist(population_rank, np.arange(num_bins+1)-0.5, color=\"#B51F1F\", alpha=0.8)\n",
    "\n",
    "# Adding labels and title\n",
    "ax.set_xlabel('Front Number [-]')\n",
    "ax.set_ylabel('Members per front [-]')\n",
    "\n",
    "plt.show()"
   ]
  },
  {
   "cell_type": "markdown",
   "id": "f831fd16-fbd3-43e8-8db5-39f7b8209f98",
   "metadata": {
    "tags": []
   },
   "source": [
    "## Crowding distance\n",
    "\n",
    "Crowding distance is a measure of how dense the solutions are in the objective function space. In NSGA-II, it is used to estimate the density of solutions surrounding a particular solution in the population. The crowding distance of a solution is calculated as the average distance to its neighbors in each of the objectives. In the following is the pseudocode as specified by Deb et al. (2002):\n",
    "\n",
    "<img src=\"assets/crowding_distance_assignment.png\" width=\"750\">\n",
    "\n",
    "### Source:\n",
    "\n",
    "> Deb, Kalyanmoy, Amrit Pratap, Sameer Agarwal, and T. A. M. T. Meyarivan. \"A fast and elitist multiobjective genetic algorithm: NSGA-II.\" IEEE transactions on evolutionary computation 6, no. 2 (2002): 182-197. https://ieeexplore.ieee.org/stamp/stamp.jsp?tp=&arnumber=996017\n",
    "\n",
    "----\n",
    "### **Assignment**\n",
    "Implement the `compute_crowding_distance`-function according to the pseudocode of Deb. Adapt the code to the given interfaces.\n",
    "\n",
    "### **Hint**\n",
    "Python indices start with Zero. In the publication of Deb, the index starts from One. \n",
    "\n",
    "----"
   ]
  },
  {
   "cell_type": "code",
   "execution_count": 14,
   "id": "267d2036-f3c5-45b9-bba5-3b13fdc9b617",
   "metadata": {
    "execution": {
     "iopub.execute_input": "2024-02-19T13:45:07.384879Z",
     "iopub.status.busy": "2024-02-19T13:45:07.384619Z",
     "iopub.status.idle": "2024-02-19T13:45:07.390907Z",
     "shell.execute_reply": "2024-02-19T13:45:07.389301Z",
     "shell.execute_reply.started": "2024-02-19T13:45:07.384857Z"
    }
   },
   "outputs": [],
   "source": [
    "def compute_crowding_distance(fitness, front):\n",
    "    distance = ...\n",
    "    return distance"
   ]
  },
  {
   "cell_type": "code",
   "execution_count": 15,
   "id": "d9fa3838-47d5-452d-ae91-cd9da60ef90e",
   "metadata": {
    "execution": {
     "iopub.execute_input": "2024-02-19T13:45:07.392240Z",
     "iopub.status.busy": "2024-02-19T13:45:07.391982Z",
     "iopub.status.idle": "2024-02-19T13:45:07.434684Z",
     "shell.execute_reply": "2024-02-19T13:45:07.432046Z",
     "shell.execute_reply.started": "2024-02-19T13:45:07.392218Z"
    },
    "tags": []
   },
   "outputs": [],
   "source": [
    "# Solution\n",
    "def compute_crowding_distance(fitness, front):\n",
    "    num_objectives = fitness.shape[1]\n",
    "    distance = np.zeros(len(front))\n",
    "\n",
    "    for i in range(num_objectives):\n",
    "        front_fitness = [fitness[p][i] for p in front]\n",
    "        sorted_indices = np.argsort(front_fitness)\n",
    "        \n",
    "        max_f = np.max(front_fitness)\n",
    "        min_f = np.min(front_fitness)\n",
    "        \n",
    "        distance[sorted_indices[0]] = distance[sorted_indices[-1]] = np.inf\n",
    "\n",
    "        scale = (max_f - min_f)\n",
    "        for j in range(1, len(front) - 1):\n",
    "            distance[sorted_indices[j]] += (front_fitness[sorted_indices[j + 1]] - front_fitness[sorted_indices[j - 1]]) / scale\n",
    "\n",
    "    return distance"
   ]
  },
  {
   "cell_type": "code",
   "execution_count": 28,
   "id": "3eab05fb-a652-4661-86b6-6b65db459c12",
   "metadata": {
    "execution": {
     "iopub.execute_input": "2024-02-19T14:49:42.738024Z",
     "iopub.status.busy": "2024-02-19T14:49:42.735864Z",
     "iopub.status.idle": "2024-02-19T14:49:42.787037Z",
     "shell.execute_reply": "2024-02-19T14:49:42.785154Z",
     "shell.execute_reply.started": "2024-02-19T14:49:42.737904Z"
    },
    "tags": []
   },
   "outputs": [
    {
     "name": "stdout",
     "output_type": "stream",
     "text": [
      "Number of Pareto fronts: 13\n",
      "Members of front: [22, 9, 8, 3, 14, 21, 15, 48]\n",
      "Crowding distances: [   inf 0.8847 0.6434 0.3115 0.3931    inf 0.6118 0.4405]\n"
     ]
    }
   ],
   "source": [
    "# Test function:\n",
    "population_size = 64\n",
    "num_objectives = 2\n",
    "\n",
    "fitness = 10 * np.random.uniform(size=(population_size, num_objectives))\n",
    "fronts, population_rank = fast_nondominated_sort(fitness)\n",
    "\n",
    "front = fronts[4]\n",
    "\n",
    "print(f\"Number of Pareto fronts: {len(fronts)}\")\n",
    "print(f\"Members of front: {front}\")\n",
    "distance = compute_crowding_distance(fitness, front)\n",
    "print(f\"Crowding distances: {distance}\")"
   ]
  },
  {
   "cell_type": "markdown",
   "id": "b7cd6200-e2a4-44a0-8caf-014671c9a06f",
   "metadata": {},
   "source": [
    "## Crowding Operator\n",
    "The crowding operator checks which individual is better in a multi-objective problem based on the rank or the crowding distance."
   ]
  },
  {
   "cell_type": "code",
   "execution_count": 17,
   "id": "8d5aff49-770d-4b37-835a-ba68e313f425",
   "metadata": {
    "execution": {
     "iopub.execute_input": "2024-02-19T13:45:07.511995Z",
     "iopub.status.busy": "2024-02-19T13:45:07.511597Z",
     "iopub.status.idle": "2024-02-19T13:45:07.546080Z",
     "shell.execute_reply": "2024-02-19T13:45:07.543752Z",
     "shell.execute_reply.started": "2024-02-19T13:45:07.511959Z"
    }
   },
   "outputs": [],
   "source": [
    "def crowding_operator(individual_index, other_individual_index, population_rank, crowding_distances):\n",
    "    ..."
   ]
  },
  {
   "cell_type": "code",
   "execution_count": 18,
   "id": "7368d93e-5572-4ad5-b25f-368440489fb3",
   "metadata": {
    "execution": {
     "iopub.execute_input": "2024-02-19T13:45:07.549061Z",
     "iopub.status.busy": "2024-02-19T13:45:07.548398Z",
     "iopub.status.idle": "2024-02-19T13:45:07.596832Z",
     "shell.execute_reply": "2024-02-19T13:45:07.594400Z",
     "shell.execute_reply.started": "2024-02-19T13:45:07.549004Z"
    },
    "tags": []
   },
   "outputs": [],
   "source": [
    "# Solution 1\n",
    "def crowding_operator(individual_index, other_individual_index, population_rank, crowding_distances):\n",
    "    if population_rank[individual_index] < population_rank[other_individual_index]:\n",
    "        return individual_index\n",
    "    elif population_rank[individual_index] > population_rank[other_individual_index]:\n",
    "        return other_individual_index\n",
    "    else:\n",
    "        if crowding_distances[individual_index] > crowding_distances[other_individual_index]:\n",
    "            return other_individual_index\n",
    "        elif crowding_distances[individual_index] < crowding_distances[other_individual_index]:\n",
    "            return individual_index\n",
    "        else:\n",
    "            raise"
   ]
  },
  {
   "cell_type": "code",
   "execution_count": 19,
   "id": "1c5d4710-422e-4031-8ea9-ae2bfa3ea66d",
   "metadata": {
    "execution": {
     "iopub.execute_input": "2024-02-19T13:45:07.600033Z",
     "iopub.status.busy": "2024-02-19T13:45:07.599228Z",
     "iopub.status.idle": "2024-02-19T13:45:07.645332Z",
     "shell.execute_reply": "2024-02-19T13:45:07.642956Z",
     "shell.execute_reply.started": "2024-02-19T13:45:07.599938Z"
    },
    "tags": []
   },
   "outputs": [],
   "source": [
    "# Solution 2\n",
    "def crowding_operator(individual_index, other_individual_index, population_rank, crowding_distances):\n",
    "    if population_rank[individual_index] < population_rank[other_individual_index]:\n",
    "        return individual_index\n",
    "    \n",
    "    if population_rank[individual_index] < population_rank[other_individual_index] and crowding_distances[individual_index] < crowding_distances[other_individual_index]:\n",
    "        return individual_index\n",
    "    \n",
    "    return other_individual_index"
   ]
  },
  {
   "cell_type": "markdown",
   "id": "c7fd6fa3-0bdf-40a2-b35e-0a97bc36b18c",
   "metadata": {
    "tags": []
   },
   "source": [
    "## Step 4: Crossover and Mutation"
   ]
  },
  {
   "cell_type": "markdown",
   "id": "6512d74b-4b8e-443a-889e-7d42cf3209e3",
   "metadata": {
    "tags": []
   },
   "source": [
    "### Mutation\n",
    "We mutate the parameters of our population. This is analog to the implementation of GA, however, here we are using a real-valued representation of our genotype."
   ]
  },
  {
   "cell_type": "code",
   "execution_count": 20,
   "id": "2d3ccb1c-7568-43b8-ba44-c387fe96979a",
   "metadata": {
    "execution": {
     "iopub.execute_input": "2024-02-19T13:45:07.648252Z",
     "iopub.status.busy": "2024-02-19T13:45:07.647542Z",
     "iopub.status.idle": "2024-02-19T13:45:07.710812Z",
     "shell.execute_reply": "2024-02-19T13:45:07.708389Z",
     "shell.execute_reply.started": "2024-02-19T13:45:07.648190Z"
    },
    "tags": []
   },
   "outputs": [],
   "source": [
    "def mutate_population(population, mutation_probability):\n",
    "    mutated_population = ...\n",
    "    return mutated_population"
   ]
  },
  {
   "cell_type": "code",
   "execution_count": 21,
   "id": "f71225da-b23e-496e-9e6f-84f9d87d6d8f",
   "metadata": {
    "execution": {
     "iopub.execute_input": "2024-02-19T13:45:07.714034Z",
     "iopub.status.busy": "2024-02-19T13:45:07.713341Z",
     "iopub.status.idle": "2024-02-19T13:45:07.760541Z",
     "shell.execute_reply": "2024-02-19T13:45:07.758142Z",
     "shell.execute_reply.started": "2024-02-19T13:45:07.713970Z"
    },
    "tags": []
   },
   "outputs": [],
   "source": [
    "# Solution 1:\n",
    "def mutate_population(population, mutation_probability):\n",
    "    mutated_population = population.copy()\n",
    "    rows, cols = population.shape\n",
    "    for i in range(rows):\n",
    "        for j in range(cols):\n",
    "            if np.random.randn() <= mutation_probability:\n",
    "                mutated_population[i][j] += np.random.normal()\n",
    "    return mutated_population"
   ]
  },
  {
   "cell_type": "code",
   "execution_count": 22,
   "id": "b441d02a-8573-40e3-95a0-837815359d64",
   "metadata": {
    "execution": {
     "iopub.execute_input": "2024-02-19T13:45:07.770634Z",
     "iopub.status.busy": "2024-02-19T13:45:07.770095Z",
     "iopub.status.idle": "2024-02-19T13:45:07.810396Z",
     "shell.execute_reply": "2024-02-19T13:45:07.808034Z",
     "shell.execute_reply.started": "2024-02-19T13:45:07.770591Z"
    },
    "tags": []
   },
   "outputs": [],
   "source": [
    "# Solution 2:\n",
    "def mutate_population(population, mutation_probability):\n",
    "    mutation_mask = np.random.rand(*population.shape) < mutation_probability\n",
    "    mutation_mask = mutation_mask.astype(np.float64)\n",
    "    \n",
    "    mutation = np.random.normal(size=(population.shape))\n",
    "    mutation = np.multiply(mutation_mask, mutation)\n",
    "    \n",
    "    population = population + mutation\n",
    "    return population"
   ]
  },
  {
   "cell_type": "code",
   "execution_count": 23,
   "id": "2324b607-17b1-4291-a5a2-bd130e05cc30",
   "metadata": {
    "execution": {
     "iopub.execute_input": "2024-02-19T13:45:07.813476Z",
     "iopub.status.busy": "2024-02-19T13:45:07.812770Z",
     "iopub.status.idle": "2024-02-19T13:45:07.859083Z",
     "shell.execute_reply": "2024-02-19T13:45:07.856643Z",
     "shell.execute_reply.started": "2024-02-19T13:45:07.813412Z"
    },
    "tags": []
   },
   "outputs": [
    {
     "name": "stdout",
     "output_type": "stream",
     "text": [
      "Changes to population:\n",
      "[[ 0.     -0.7204 -0.3532 -0.5971  0.      0.4478  0.     -1.104 ]\n",
      " [-1.4442 -0.7755 -0.7067  1.1366 -0.337   0.      0.      0.    ]\n",
      " [-1.2567 -1.3561  0.      0.7956 -0.7827  0.      0.      0.    ]\n",
      " [ 1.5989  0.      0.      1.4696  0.      0.      0.      0.    ]\n",
      " [ 0.      1.0827 -0.1634  0.      0.1053  0.6634  0.      0.308 ]\n",
      " [ 0.      0.4713  0.      0.      0.7235  1.3164  0.2332  0.8295]\n",
      " [ 0.      0.2578  0.      0.      1.4099  0.     -0.1527  0.    ]\n",
      " [ 0.      0.      0.      0.      1.8862 -0.3869  0.      2.0046]\n",
      " [ 0.      0.      0.6411  0.     -2.0506  0.     -1.1246  1.7479]\n",
      " [-0.4114  0.      0.      0.9172  0.      0.8511  0.2017  0.9061]]\n"
     ]
    }
   ],
   "source": [
    "# Test implementation:\n",
    "population_size = 10\n",
    "num_parameter = 8\n",
    "mutation_probability = 0.5\n",
    "\n",
    "population = np.random.uniform(size = (population_size, num_parameter))\n",
    "mutated_population = mutate_population(population, mutation_probability)\n",
    "\n",
    "print(f\"Changes to population:\\n{population - mutated_population}\")"
   ]
  },
  {
   "cell_type": "markdown",
   "id": "ebba4185-0e43-49a7-9beb-8e229253e228",
   "metadata": {},
   "source": [
    "### One-point Crossover\n",
    "We use a one-point crossover here analog to the implementation in GA. No modifications for different representations required."
   ]
  },
  {
   "cell_type": "code",
   "execution_count": 24,
   "id": "d143b73d-f4ae-49e9-9453-dfb0dec9ac31",
   "metadata": {
    "execution": {
     "iopub.execute_input": "2024-02-19T13:45:07.862087Z",
     "iopub.status.busy": "2024-02-19T13:45:07.861470Z",
     "iopub.status.idle": "2024-02-19T13:45:07.914644Z",
     "shell.execute_reply": "2024-02-19T13:45:07.912309Z",
     "shell.execute_reply.started": "2024-02-19T13:45:07.862032Z"
    },
    "tags": []
   },
   "outputs": [],
   "source": [
    "# Solution\n",
    "def stochastic_one_point_crossover(parent_1, parent_2, crossover_probability):\n",
    "    parent_1 = parent_1.reshape(1, -1)\n",
    "    parent_2 = parent_2.reshape(1, -1)\n",
    "    \n",
    "    if np.random.rand() >= crossover_probability:\n",
    "        return parent_1, parent_2\n",
    "    \n",
    "    idx = np.random.randint(low=1, high=parent_1.shape[1])\n",
    "    \n",
    "    child_1 = np.concatenate((parent_1[0, :idx], parent_2[0, idx:]))\n",
    "    child_2 = np.concatenate((parent_2[0, :idx], parent_1[0, idx:]))\n",
    "    \n",
    "    child_1 = child_1.reshape(1, -1)\n",
    "    child_2 = child_2.reshape(1, -1)\n",
    "    \n",
    "    return child_1, child_2"
   ]
  },
  {
   "cell_type": "code",
   "execution_count": 25,
   "id": "7888ae24-ea09-4f13-ae53-d44806abd89f",
   "metadata": {
    "execution": {
     "iopub.execute_input": "2024-02-19T13:45:07.917700Z",
     "iopub.status.busy": "2024-02-19T13:45:07.917004Z",
     "iopub.status.idle": "2024-02-19T13:45:07.971753Z",
     "shell.execute_reply": "2024-02-19T13:45:07.969480Z",
     "shell.execute_reply.started": "2024-02-19T13:45:07.917637Z"
    },
    "tags": []
   },
   "outputs": [
    {
     "name": "stdout",
     "output_type": "stream",
     "text": [
      "Parent 1:\n",
      "[[0.1807 0.3665 0.2692 0.208  0.2335 0.0805 0.401  0.7185]]\n",
      "Parent 2:\n",
      "[[0.5541 0.8327 0.8111 0.3    0.1982 0.6092 0.5495 0.3943]]\n",
      "\n",
      "Child 1:\n",
      "[[0.1807 0.3665 0.2692 0.3    0.1982 0.6092 0.5495 0.3943]]\n",
      "Child 2:\n",
      "[[0.5541 0.8327 0.8111 0.208  0.2335 0.0805 0.401  0.7185]]\n"
     ]
    }
   ],
   "source": [
    "# test function:\n",
    "num_parameter = 8\n",
    "crossover_probability = 1.0\n",
    "\n",
    "parent_1 = np.random.uniform(size=(1, num_parameter))\n",
    "parent_2 = np.random.uniform(size=(1, num_parameter))\n",
    "\n",
    "child_1, child_2 = stochastic_one_point_crossover(parent_1, parent_2, crossover_probability)\n",
    "\n",
    "print(f\"Parent 1:\\n{parent_1}\\nParent 2:\\n{parent_2}\\n\")\n",
    "print(f\"Child 1:\\n{child_1}\\nChild 2:\\n{child_2}\")"
   ]
  },
  {
   "cell_type": "markdown",
   "id": "02f22309-6611-4d73-b054-2bad64aa8552",
   "metadata": {
    "tags": []
   },
   "source": [
    "## Step 5: Survivor Selection - binary tournament selection\n",
    "For comparing different solutions, we use the rank and crowding distance to compare solutions in the tournament selection."
   ]
  },
  {
   "cell_type": "code",
   "execution_count": 26,
   "id": "07a0c350-7269-458c-9b43-d670439c7ee2",
   "metadata": {
    "execution": {
     "iopub.execute_input": "2024-02-19T13:45:07.974488Z",
     "iopub.status.busy": "2024-02-19T13:45:07.973875Z",
     "iopub.status.idle": "2024-02-19T13:45:08.015784Z",
     "shell.execute_reply": "2024-02-19T13:45:08.013472Z",
     "shell.execute_reply.started": "2024-02-19T13:45:07.974434Z"
    },
    "tags": []
   },
   "outputs": [],
   "source": [
    "# Solution\n",
    "def tournament_selection(tournament_size, population_rank, crowding_distances):\n",
    "    population_size = len(population_rank)\n",
    "    contestants = np.random.randint(population_size, size=(tournament_size,))\n",
    "    \n",
    "    best_index = 0\n",
    "    for competitor_index in np.nditer(contestants):\n",
    "        winner_index = crowding_operator(best_index, competitor_index, population_rank, crowding_distances)\n",
    "        best_index = winner_index\n",
    "        \n",
    "    return best_index"
   ]
  },
  {
   "cell_type": "code",
   "execution_count": 27,
   "id": "9d595434-9a0f-4ede-a0c5-cf1a3a2fc188",
   "metadata": {
    "execution": {
     "iopub.execute_input": "2024-02-19T13:45:08.019210Z",
     "iopub.status.busy": "2024-02-19T13:45:08.018482Z",
     "iopub.status.idle": "2024-02-19T13:45:08.107384Z",
     "shell.execute_reply": "2024-02-19T13:45:08.104796Z",
     "shell.execute_reply.started": "2024-02-19T13:45:08.019147Z"
    },
    "tags": []
   },
   "outputs": [
    {
     "name": "stdout",
     "output_type": "stream",
     "text": [
      "Best index: 2\n"
     ]
    }
   ],
   "source": [
    "# test functions:\n",
    "population_size = 8\n",
    "tournament_size = 8\n",
    "\n",
    "population_rank = np.array([2, 1, 0, 2, 2, 1, 3, 4])\n",
    "crowding_distances = np.array([0.2, 0.5, 0.8, 1.1, 1.8, 0.7, 0.8, np.inf])\n",
    "\n",
    "best_index = tournament_selection(tournament_size, population_rank, crowding_distances)\n",
    "\n",
    "print(f\"Best index: {best_index}\")"
   ]
  }
 ],
 "metadata": {
  "kernelspec": {
   "display_name": "Python3",
   "language": "python",
   "name": "python3"
  },
  "language_info": {
   "codemirror_mode": {
    "name": "ipython",
    "version": 3
   },
   "file_extension": ".py",
   "mimetype": "text/x-python",
   "name": "python",
   "nbconvert_exporter": "python",
   "pygments_lexer": "ipython3",
   "version": "3.11.5"
  }
 },
 "nbformat": 4,
 "nbformat_minor": 5
}
