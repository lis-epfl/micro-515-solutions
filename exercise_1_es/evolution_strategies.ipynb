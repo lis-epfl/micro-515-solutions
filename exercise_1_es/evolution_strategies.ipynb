{
 "cells": [
  {
   "cell_type": "markdown",
   "id": "4caa7760-e032-462d-94c0-ee96b57360f6",
   "metadata": {},
   "source": [
    "# Exercise 1: Evolution Strategy"
   ]
  },
  {
   "cell_type": "markdown",
   "id": "28de3680-7ebb-41b6-aaaa-2684537dea09",
   "metadata": {},
   "source": [
    "## Import libraries"
   ]
  },
  {
   "cell_type": "code",
   "execution_count": 1,
   "id": "2f0fe76d-ea2b-460e-98d4-bc514197b835",
   "metadata": {
    "execution": {
     "iopub.execute_input": "2024-02-15T15:18:47.444021Z",
     "iopub.status.busy": "2024-02-15T15:18:47.443404Z",
     "iopub.status.idle": "2024-02-15T15:18:47.773130Z",
     "shell.execute_reply": "2024-02-15T15:18:47.771957Z",
     "shell.execute_reply.started": "2024-02-15T15:18:47.443963Z"
    },
    "tags": []
   },
   "outputs": [],
   "source": [
    "import numpy as np\n",
    "\n",
    "np.set_printoptions(precision=4, suppress=True) # for better printing"
   ]
  },
  {
   "cell_type": "markdown",
   "id": "7e4eb65b-571f-4d3a-bc18-5868ce6c1dec",
   "metadata": {},
   "source": [
    "# ES ($\\mu$,$\\lambda$) algorithm\n",
    "In this exercise, we will use Evolution Strategies ($\\mu$,$\\lambda$) as explained in the lecture. The algorithm was introduced with the following steps:\n",
    "\n",
    "1. Set up population size $\\lambda$, number of parents $\\mu$, mutation step size $\\sigma$\n",
    "2. Set up solution guess, e.g, $n\\times 1$ vector $m$\n",
    "3. Generate $\\lambda$ offspring from $m$\n",
    "4. Evaluate $\\lambda$ offspring\n",
    "5. Select $\\mu$ parents with Truncated Rank Selection\n",
    "6. Update population $m$ using fitness-weighted values of $\\mu$ parents\n",
    "\n",
    "> Go to 3. until convergence or maximum number of generations\n",
    "\n",
    "In the following, we will implement the algorithm. Step 4. is problem specific and already prepared. We will select the parameters of Step 1. at the end of the exercise for each problem."
   ]
  },
  {
   "cell_type": "markdown",
   "id": "2c43e6cf-8a19-4ad3-bef3-97c619d62e51",
   "metadata": {},
   "source": [
    "## Step 2: Initialise $m$\n",
    "\n",
    "-------\n",
    "### **Assignment**\n",
    "Implement the `initialise_mean`-function. Initialise the mean by using a random uniform distribution. The mean vector should have the same size as the number of parameters specified. Sample from a uniform distribution in range between -4.0 and 4.0 for the initial mean.\n",
    "\n",
    "### **Hint**\n",
    "To sample from a uniform distribution with NumPy, you can use `np.random.uniform`. Check the NumPy [documentation](https://numpy.org/doc/stable/reference/random/generated/numpy.random.uniform.html) for further details. \n",
    "\n",
    "-------"
   ]
  },
  {
   "cell_type": "code",
   "execution_count": 2,
   "id": "f5a235e5-9436-40ca-bc68-b3cbdf0ae471",
   "metadata": {
    "execution": {
     "iopub.execute_input": "2024-02-15T15:18:47.775233Z",
     "iopub.status.busy": "2024-02-15T15:18:47.774876Z",
     "iopub.status.idle": "2024-02-15T15:18:47.791724Z",
     "shell.execute_reply": "2024-02-15T15:18:47.790521Z",
     "shell.execute_reply.started": "2024-02-15T15:18:47.775208Z"
    },
    "tags": []
   },
   "outputs": [],
   "source": [
    "def initialise_mean(num_parameters):\n",
    "    mean_vector = ...\n",
    "    return mean_vector"
   ]
  },
  {
   "cell_type": "code",
   "execution_count": 3,
   "id": "8c8bc6ce-0519-4181-a7fc-9201e4921a01",
   "metadata": {
    "execution": {
     "iopub.execute_input": "2024-02-15T15:18:47.793056Z",
     "iopub.status.busy": "2024-02-15T15:18:47.792767Z",
     "iopub.status.idle": "2024-02-15T15:18:47.877186Z",
     "shell.execute_reply": "2024-02-15T15:18:47.874820Z",
     "shell.execute_reply.started": "2024-02-15T15:18:47.793029Z"
    },
    "tags": []
   },
   "outputs": [],
   "source": [
    "# Solution\n",
    "def initialise_mean(num_parameters):\n",
    "    mean_vector = np.random.uniform(low=-4.0, high=4.0, size=(num_parameters,))\n",
    "    return mean_vector"
   ]
  },
  {
   "cell_type": "code",
   "execution_count": 4,
   "id": "bcecb5c9-da6c-453e-8c6e-d9be07a18094",
   "metadata": {
    "execution": {
     "iopub.execute_input": "2024-02-15T15:18:47.880479Z",
     "iopub.status.busy": "2024-02-15T15:18:47.879733Z",
     "iopub.status.idle": "2024-02-15T15:18:47.932338Z",
     "shell.execute_reply": "2024-02-15T15:18:47.929720Z",
     "shell.execute_reply.started": "2024-02-15T15:18:47.880410Z"
    },
    "tags": []
   },
   "outputs": [
    {
     "name": "stdout",
     "output_type": "stream",
     "text": [
      "Mean shape: (5,)\n",
      "\n",
      "Mean parameters:\n",
      "[-1.5216 -0.497  -1.075   2.0879 -1.1956]\n"
     ]
    }
   ],
   "source": [
    "# Test your function:\n",
    "num_parameters = 5\n",
    "mean_vector = initialise_mean(num_parameters=num_parameters)\n",
    "\n",
    "print(f\"Mean shape: {mean_vector.shape}\\n\\nMean parameters:\\n{mean_vector}\")\n",
    "assert len(mean_vector) == num_parameters"
   ]
  },
  {
   "cell_type": "markdown",
   "id": "f96f8acb-4f00-451a-8940-f899437cab80",
   "metadata": {},
   "source": [
    "## Step 3: Generate $\\lambda$ offspring from $m$\n",
    "\n",
    "We introduce the following notation for storing the parameters of our population. The population parameters are stored in a 2D array with dimension (population_size, parameter_size). That means that each row corresponds to the parameters of one population member.\n",
    "\n",
    "|   | Parameter 1   | Parameter 2   | $\\cdots$   | Parameter n   |\n",
    "|:---:|:---:|:---:|:---:|:---:|\n",
    "| Candidate 1   | $\\dots$  | $\\dots$  |  $\\dots$ |  $\\dots$ |\n",
    "| Candidate 2  | $\\dots$  |  $\\dots$ | $\\dots$  |  $\\dots$ |\n",
    "| $\\vdots$  | $\\dots$ | $\\dots$  | $\\dots$  | $\\dots$  |\n",
    "| Candidate m  |  $\\dots$ | $\\dots$  |  $\\dots$ | $\\dots$  |\n",
    "\n",
    "For generating a new offspring the lecture introduced the following formula:\n",
    "\n",
    "\\begin{align}\n",
    "    x_i = m + \\sigma \\mathcal{N}_i(0, \\mathcal{I}) \\qquad \\text{for} \\quad 0 < i \\le \\lambda\n",
    "\\end{align}\n",
    "\n",
    "---\n",
    "### **Assignment**\n",
    "Implement the `generate_offspring`-function with the formula given from the lecture to generate the population as specified above.\n",
    "\n",
    "### **Hint**\n",
    "You can generate multivariate (normal) Gaussian distributions with `np.random.normal`. Check the NumPy [documentation](https://numpy.org/doc/stable/reference/random/generated/numpy.random.normal.html) for further details.\n",
    "\n",
    "---"
   ]
  },
  {
   "cell_type": "code",
   "execution_count": 5,
   "id": "603018ab-d756-4aac-960d-d9afa3d22164",
   "metadata": {
    "execution": {
     "iopub.execute_input": "2024-02-15T15:18:47.940178Z",
     "iopub.status.busy": "2024-02-15T15:18:47.939369Z",
     "iopub.status.idle": "2024-02-15T15:18:48.003847Z",
     "shell.execute_reply": "2024-02-15T15:18:48.001462Z",
     "shell.execute_reply.started": "2024-02-15T15:18:47.940115Z"
    },
    "tags": []
   },
   "outputs": [],
   "source": [
    "def generate_mutated_offspring(population_size, mean_vector, mutation_sigma):\n",
    "    # Duplicate mean candidate along y-dim\n",
    "    population = ...\n",
    "    \n",
    "    # Compute multivariate Gaussian noise\n",
    "    mutation = ...\n",
    "    \n",
    "    # Compute offspring\n",
    "    mutated_population = ...\n",
    "    \n",
    "    return mutated_population"
   ]
  },
  {
   "cell_type": "code",
   "execution_count": 6,
   "id": "9f7e9dd0-5d03-4363-869d-49ffa4301ae0",
   "metadata": {
    "execution": {
     "iopub.execute_input": "2024-02-15T15:18:48.007511Z",
     "iopub.status.busy": "2024-02-15T15:18:48.006654Z",
     "iopub.status.idle": "2024-02-15T15:18:48.048791Z",
     "shell.execute_reply": "2024-02-15T15:18:48.045984Z",
     "shell.execute_reply.started": "2024-02-15T15:18:48.007366Z"
    },
    "tags": []
   },
   "outputs": [],
   "source": [
    "# Solution\n",
    "def generate_mutated_offspring(population_size, mean_vector, mutation_sigma):   \n",
    "    # Duplicate mean candidate along y-dim\n",
    "    population = np.tile(mean_vector,(population_size, 1))\n",
    "    \n",
    "    # Compute multivariate Gaussian noise\n",
    "    num_parameters = len(mean_vector)\n",
    "    perturbation = np.random.normal(\n",
    "        loc=0.0, \n",
    "        scale=1.0, \n",
    "        size=(population_size, num_parameters)\n",
    "    )\n",
    "    \n",
    "    # Compute offspring\n",
    "    mutated_population = population + mutation_sigma * perturbation\n",
    "    \n",
    "    return mutated_population"
   ]
  },
  {
   "cell_type": "code",
   "execution_count": 7,
   "id": "7031b046-eee3-406a-ab5e-7e61daac2e94",
   "metadata": {
    "execution": {
     "iopub.execute_input": "2024-02-15T15:18:48.052176Z",
     "iopub.status.busy": "2024-02-15T15:18:48.051393Z",
     "iopub.status.idle": "2024-02-15T15:18:48.103840Z",
     "shell.execute_reply": "2024-02-15T15:18:48.101233Z",
     "shell.execute_reply.started": "2024-02-15T15:18:48.052107Z"
    },
    "tags": []
   },
   "outputs": [
    {
     "name": "stdout",
     "output_type": "stream",
     "text": [
      "Population shape: (8, 5)\n",
      "Population params:\n",
      "[[1.186  1.6775 3.3114 3.5812 5.1155]\n",
      " [1.3828 2.164  2.7308 3.9822 4.9979]\n",
      " [0.5853 2.1903 3.3705 3.7652 4.8059]\n",
      " [0.8291 1.6264 2.4349 3.5829 4.8647]\n",
      " [0.5648 2.5751 3.4339 3.8382 4.6304]\n",
      " [0.5038 2.3324 3.3152 4.8278 4.7963]\n",
      " [1.1226 2.2739 3.2444 3.6497 4.9855]\n",
      " [1.3785 2.2423 3.4473 3.8725 5.5124]]\n"
     ]
    }
   ],
   "source": [
    "# Test your function:\n",
    "population_size = 8\n",
    "mean_vector = np.array([1.0, 2.0, 3.0, 4.0, 5.0])\n",
    "mutation_sigma = 0.3\n",
    "\n",
    "population = generate_mutated_offspring(population_size, mean_vector, mutation_sigma)\n",
    "print(f\"Population shape: {population.shape}\")\n",
    "print(f\"Population params:\\n{population}\")"
   ]
  },
  {
   "cell_type": "markdown",
   "id": "943c0d05-fac4-4065-bef7-72eb28c1cc8d",
   "metadata": {},
   "source": [
    "## Step 5: Select $\\mu $ parents with Truncated Rank Selection\n",
    "\n",
    "After the population has been evaluated, we receive a fitness vector. Use the fitness vector to sort the population and select the best solutions as the parents of a new generation. The parents_population is represented as a 2D array with shape (num_parents, num_parameters). We use the ES ($\\mu$,$\\lambda$) Strategy so the offspring is fully replaced after each generation.\n",
    "\n",
    "|   | Parameter 1   | Parameter 2   | $\\cdots$   | Parameter n   |\n",
    "|:---:|:---:|:---:|:---:|:---:|\n",
    "| Parent 1   | $\\dots$  | $\\dots$  |  $\\dots$ |  $\\dots$ |\n",
    "| Parent 2  | $\\dots$  |  $\\dots$ | $\\dots$  |  $\\dots$ |\n",
    "| $\\vdots$  | $\\dots$ | $\\dots$  | $\\dots$  | $\\dots$  |\n",
    "| Parent $\\mu$  |  $\\dots$ | $\\dots$  |  $\\dots$ | $\\dots$  |\n",
    "\n",
    "---\n",
    "### **Assignment**\n",
    "Implement the `sort_and_select_parents`-function.\n",
    "1. Sort the population representation according to the given fitness values.\n",
    "2. Truncate population members which did perform not well enough.\n",
    "\n",
    "Return the parents population and their corresponding fitness scores. In the problems we want to solve a higher fitness score is better.\n",
    "\n",
    "### **Hint**\n",
    "NumPy provides a handy function for sorting an array callend `np.argsort` which returns the indicies of the array according to the **ascending** value.  \n",
    "With the indicies you can use **indexing** to sort the array. For further details on [argsort](https://numpy.org/doc/stable/reference/generated/numpy.argsort.html) and on [indexing](https://numpy.org/doc/stable/user/basics.indexing.html), check the documentation. \n",
    "\n",
    "---\n"
   ]
  },
  {
   "cell_type": "code",
   "execution_count": 8,
   "id": "a791e1f2-dac4-472a-bbb0-e6024b3b9819",
   "metadata": {
    "execution": {
     "iopub.execute_input": "2024-02-15T15:18:48.107036Z",
     "iopub.status.busy": "2024-02-15T15:18:48.106326Z",
     "iopub.status.idle": "2024-02-15T15:18:48.249697Z",
     "shell.execute_reply": "2024-02-15T15:18:48.247025Z",
     "shell.execute_reply.started": "2024-02-15T15:18:48.106965Z"
    },
    "tags": []
   },
   "outputs": [],
   "source": [
    "def sort_and_select_parents(population, fitness, num_parents):\n",
    "    parent_population = ...\n",
    "    parent_fitness = ...\n",
    "    return parent_population, parent_fitness"
   ]
  },
  {
   "cell_type": "code",
   "execution_count": 9,
   "id": "03d9815f-f07c-4a7d-bc2d-3b5e8c2dea2a",
   "metadata": {
    "execution": {
     "iopub.execute_input": "2024-02-15T15:18:48.253131Z",
     "iopub.status.busy": "2024-02-15T15:18:48.252401Z",
     "iopub.status.idle": "2024-02-15T15:18:48.299963Z",
     "shell.execute_reply": "2024-02-15T15:18:48.297413Z",
     "shell.execute_reply.started": "2024-02-15T15:18:48.253058Z"
    },
    "tags": []
   },
   "outputs": [],
   "source": [
    "# Solution\n",
    "def sort_and_select_parents(population, fitness, num_parents):\n",
    "    sorted_indices = np.argsort(fitness)[::-1]\n",
    "    sorted_indices = sorted_indices[0:num_parents]\n",
    "    \n",
    "    parent_population = population[sorted_indices]\n",
    "    parent_fitness = fitness[sorted_indices]\n",
    "    \n",
    "    return parent_population, parent_fitness"
   ]
  },
  {
   "cell_type": "code",
   "execution_count": 10,
   "id": "a262565f-88f9-45dd-bbf7-1c7229fd9250",
   "metadata": {
    "execution": {
     "iopub.execute_input": "2024-02-15T15:18:48.303535Z",
     "iopub.status.busy": "2024-02-15T15:18:48.302757Z",
     "iopub.status.idle": "2024-02-15T15:18:48.362166Z",
     "shell.execute_reply": "2024-02-15T15:18:48.359679Z",
     "shell.execute_reply.started": "2024-02-15T15:18:48.303424Z"
    },
    "tags": []
   },
   "outputs": [
    {
     "name": "stdout",
     "output_type": "stream",
     "text": [
      "Population:\n",
      "[[ 1.7618  0.5024  0.8941  0.6923 -0.179 ]\n",
      " [ 0.5979 -0.6723  1.7106  0.843   0.5217]\n",
      " [ 0.8707  0.5132  0.6181  1.151  -0.75  ]\n",
      " [ 1.3689  3.0921  2.3227  2.2209  1.2814]\n",
      " [ 2.8655 -1.6937  1.3277 -1.2721  1.8081]\n",
      " [ 2.0207  1.488   0.3209  1.0215  0.806 ]\n",
      " [ 1.524   2.453   1.8044  1.0059  2.7304]\n",
      " [ 0.0439  0.7901  0.4233  0.3031  1.065 ]]\n",
      "Population fitness:\n",
      "[0.1864 0.4407 0.3965 0.1007 0.4136 0.0939 0.7815 0.1515]\n",
      "\n",
      "Parent population shape: (4, 5)\n",
      "Parent population:\n",
      "[[ 1.524   2.453   1.8044  1.0059  2.7304]\n",
      " [ 0.5979 -0.6723  1.7106  0.843   0.5217]\n",
      " [ 2.8655 -1.6937  1.3277 -1.2721  1.8081]\n",
      " [ 0.8707  0.5132  0.6181  1.151  -0.75  ]]\n",
      "Parent fitness:\n",
      "[0.7815 0.4407 0.4136 0.3965]\n"
     ]
    }
   ],
   "source": [
    "# Test your function:\n",
    "population_size = 8\n",
    "num_parameters = 5\n",
    "num_parents = 4\n",
    "\n",
    "population = np.random.normal(loc=1.0, size=(population_size, num_parameters))\n",
    "fitness = np.random.uniform(size=(population_size,))\n",
    "\n",
    "parent_population, parent_fitness = sort_and_select_parents(\n",
    "    population=population, \n",
    "    fitness=fitness, \n",
    "    num_parents=num_parents\n",
    ")\n",
    "\n",
    "print(f\"Population:\\n{population}\")\n",
    "print(f\"Population fitness:\\n{fitness}\")\n",
    "print()\n",
    "print(f\"Parent population shape: {parent_population.shape}\")\n",
    "print(f\"Parent population:\\n{parent_population}\")\n",
    "print(f\"Parent fitness:\\n{parent_fitness}\")"
   ]
  },
  {
   "cell_type": "markdown",
   "id": "56446c00-777b-4194-8822-cce0cfecdf6f",
   "metadata": {},
   "source": [
    "## Step 6: Update population $m$ using fitness-weighted values of $\\mu$ parents\n",
    "\n",
    "After selecting the parents population \n",
    "\n",
    "\n",
    "---\n",
    "### **Assignment**\n",
    "Implement the `update_population_mean`-function.\n",
    "1. Introduce Fitness-weight the parent fitness.\n",
    "2. Calculate the mean of all population members with weighted fitness.\n",
    "\n",
    "\n",
    "### **Hint**\n",
    "In general, weighted mean is calculated according to this equation:\n",
    "\\begin{align}\n",
    "\\mu = \\frac{\\sum_{i=1}^{N} w_i \\cdot \\mathbf{x}_i}{\\sum_{i=1}^{N} w_i}\n",
    "\\end{align}\n",
    "\n",
    "There are multiple ways of weighting the population parameters to the fitness scores. One way is using nested `for`-loops. Another computationally more efficient way is to use NumPy matrix multiplications like `np.outer`, `np.vstack` and `np.multiply`.\n",
    "\n",
    "---"
   ]
  },
  {
   "cell_type": "code",
   "execution_count": 11,
   "id": "e88bbfe1-d2df-42d3-b785-e20eacb7316b",
   "metadata": {
    "execution": {
     "iopub.execute_input": "2024-02-15T15:18:48.365104Z",
     "iopub.status.busy": "2024-02-15T15:18:48.364443Z",
     "iopub.status.idle": "2024-02-15T15:18:48.412254Z",
     "shell.execute_reply": "2024-02-15T15:18:48.409595Z",
     "shell.execute_reply.started": "2024-02-15T15:18:48.365036Z"
    },
    "tags": []
   },
   "outputs": [],
   "source": [
    "def update_population_mean(parent_population, parent_fitness):\n",
    "    # Normalise parent fitness scores\n",
    "    normed_parents_fitness = ...\n",
    "    \n",
    "    # Compute population weighted to the normed fitness scores  \n",
    "    weighted_parents_population = ...\n",
    "    \n",
    "    # Calculate the sum of weighted parents population\n",
    "    updated_mean_vector = ...\n",
    "    \n",
    "    return updated_mean_vector"
   ]
  },
  {
   "cell_type": "code",
   "execution_count": 12,
   "id": "8ddbd5a6-7eee-490f-9ec2-912e480c59bc",
   "metadata": {
    "execution": {
     "iopub.execute_input": "2024-02-15T15:18:48.415311Z",
     "iopub.status.busy": "2024-02-15T15:18:48.414596Z",
     "iopub.status.idle": "2024-02-15T15:18:48.462742Z",
     "shell.execute_reply": "2024-02-15T15:18:48.460228Z",
     "shell.execute_reply.started": "2024-02-15T15:18:48.415245Z"
    },
    "tags": []
   },
   "outputs": [],
   "source": [
    "# Solution: Simple\n",
    "def update_population_mean(parent_population):    \n",
    "    # Calculate mean of population along y-axis\n",
    "    updated_mean_vector = np.mean(parent_population, axis=0)\n",
    "    \n",
    "    return updated_mean_vector"
   ]
  },
  {
   "cell_type": "code",
   "execution_count": 13,
   "id": "587f52ae-38ea-480d-8109-4f6a8eb4fcaf",
   "metadata": {
    "execution": {
     "iopub.execute_input": "2024-02-15T15:18:48.465940Z",
     "iopub.status.busy": "2024-02-15T15:18:48.465223Z",
     "iopub.status.idle": "2024-02-15T15:18:48.509465Z",
     "shell.execute_reply": "2024-02-15T15:18:48.507055Z",
     "shell.execute_reply.started": "2024-02-15T15:18:48.465859Z"
    },
    "tags": []
   },
   "outputs": [],
   "source": [
    "# Solution: Fitness-weighted\n",
    "def update_population_mean(parent_population, parent_fitness):\n",
    "    # Normalise parent fitness scores\n",
    "    normed_parents_fitness = parent_fitness / np.sum(parent_fitness)\n",
    "    \n",
    "    # Compute population weighted to the normed fitness scores    \n",
    "    weight = np.outer(normed_parents_fitness, np.ones((1, parent_population.shape[1])))\n",
    "    weighted_parents_population = np.multiply(parent_population, weight) #hadamard product\n",
    "    \n",
    "    # Calculate mean of weighted parents population along y-axis\n",
    "    updated_mean_vector = np.sum(weighted_parents_population, axis=0)\n",
    "    \n",
    "    return updated_mean_vector"
   ]
  },
  {
   "cell_type": "code",
   "execution_count": 14,
   "id": "1641156b-7195-465d-9e0f-94dd5f2f9648",
   "metadata": {
    "execution": {
     "iopub.execute_input": "2024-02-15T15:18:48.516244Z",
     "iopub.status.busy": "2024-02-15T15:18:48.515596Z",
     "iopub.status.idle": "2024-02-15T15:18:48.572075Z",
     "shell.execute_reply": "2024-02-15T15:18:48.569788Z",
     "shell.execute_reply.started": "2024-02-15T15:18:48.516153Z"
    },
    "tags": []
   },
   "outputs": [
    {
     "name": "stdout",
     "output_type": "stream",
     "text": [
      "====== Small differences ======\n",
      "Best candidate:\n",
      "[1.0159 0.82   1.7515 0.8295 0.8279]\n",
      "Fitness-weighted mean:\n",
      "[0.9943 1.2069 1.0914 0.9144 0.3854]\n",
      "Population mean unweighted:\n",
      "[1.3817 0.8091 1.1777 0.7457 0.9104]\n",
      "\n",
      "====== Large differences ======\n",
      "Best candidate:\n",
      "[1.0159 0.82   1.7515 0.8295 0.8279]\n",
      "Fitness-weighted mean:\n",
      "[1.0156 0.8254 1.7423 0.8307 0.8217]\n",
      "Parents population mean unweighted:\n",
      "[1.0479 1.211  1.2488 0.8608 0.4893]\n"
     ]
    }
   ],
   "source": [
    "# Test your function:\n",
    "np.set_printoptions(precision=4, suppress=True)\n",
    "\n",
    "num_parameters = 5\n",
    "num_parents = 4\n",
    "\n",
    "parent_population = np.random.normal(loc=1.0, scale=0.5, size=(num_parents, num_parameters))\n",
    "parent_fitness = np.random.uniform(size=(num_parents,))\n",
    "\n",
    "mean_vector = update_population_mean(parent_population, parent_fitness)\n",
    "\n",
    "print(\"====== Small differences ======\")\n",
    "print(f\"Best candidate:\\n{parent_population[0,:]}\")\n",
    "print(f\"Fitness-weighted mean:\\n{mean_vector}\")\n",
    "print(f\"Population mean unweighted:\\n{np.mean(population, axis=0)}\")\n",
    "print()\n",
    "\n",
    "# Assume one solution clearly outperforms the others.\n",
    "parent_fitness[0] = 100.0\n",
    "mean_vector = update_population_mean(parent_population, parent_fitness)\n",
    "\n",
    "print(\"====== Large differences ======\")\n",
    "print(f\"Best candidate:\\n{parent_population[0,:]}\")\n",
    "print(f\"Fitness-weighted mean:\\n{mean_vector}\")\n",
    "print(f\"Parents population mean unweighted:\\n{np.mean(parent_population, axis=0)}\")"
   ]
  }
 ],
 "metadata": {
  "kernelspec": {
   "display_name": "Python3",
   "language": "python",
   "name": "python3"
  },
  "language_info": {
   "codemirror_mode": {
    "name": "ipython",
    "version": 3
   },
   "file_extension": ".py",
   "mimetype": "text/x-python",
   "name": "python",
   "nbconvert_exporter": "python",
   "pygments_lexer": "ipython3",
   "version": "3.11.5"
  }
 },
 "nbformat": 4,
 "nbformat_minor": 5
}
