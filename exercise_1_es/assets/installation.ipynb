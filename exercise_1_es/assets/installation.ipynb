{
 "cells": [
  {
   "cell_type": "markdown",
   "id": "ce8ba9d4-c1aa-412d-a04b-f4a896107506",
   "metadata": {},
   "source": [
    "# Installation"
   ]
  },
  {
   "cell_type": "code",
   "execution_count": 1,
   "id": "7867b780-b032-47ba-b079-a36d47bbf602",
   "metadata": {
    "execution": {
     "iopub.execute_input": "2024-02-12T18:20:36.493669Z",
     "iopub.status.busy": "2024-02-12T18:20:36.492753Z",
     "iopub.status.idle": "2024-02-12T18:21:01.839839Z",
     "shell.execute_reply": "2024-02-12T18:21:01.836748Z",
     "shell.execute_reply.started": "2024-02-12T18:20:36.493577Z"
    }
   },
   "outputs": [
    {
     "name": "stdout",
     "output_type": "stream",
     "text": [
      "Defaulting to user installation because normal site-packages is not writeable\n",
      "Requirement already satisfied: swig in /home/.local/lib/python3.11/site-packages (4.2.0)\n",
      "Note: you may need to restart the kernel to use updated packages.\n"
     ]
    }
   ],
   "source": [
    "pip install swig"
   ]
  },
  {
   "cell_type": "code",
   "execution_count": 2,
   "id": "4cd48b47-9833-40f6-9296-6bac7f56a19a",
   "metadata": {
    "execution": {
     "iopub.execute_input": "2024-02-12T18:21:01.846815Z",
     "iopub.status.busy": "2024-02-12T18:21:01.845992Z",
     "iopub.status.idle": "2024-02-12T18:21:08.107315Z",
     "shell.execute_reply": "2024-02-12T18:21:08.104265Z",
     "shell.execute_reply.started": "2024-02-12T18:21:01.846724Z"
    }
   },
   "outputs": [
    {
     "name": "stdout",
     "output_type": "stream",
     "text": [
      "Defaulting to user installation because normal site-packages is not writeable\n",
      "Requirement already satisfied: gymnasium[box2d] in /home/.local/lib/python3.11/site-packages (0.29.1)\n",
      "Requirement already satisfied: numpy>=1.21.0 in /opt/jlab-env/lib/python3.11/site-packages (from gymnasium[box2d]) (1.24.4)\n",
      "Requirement already satisfied: cloudpickle>=1.2.0 in /opt/jlab-env/lib/python3.11/site-packages (from gymnasium[box2d]) (2.2.1)\n",
      "Requirement already satisfied: typing-extensions>=4.3.0 in /opt/jlab-env/lib/python3.11/site-packages (from gymnasium[box2d]) (4.7.1)\n",
      "Requirement already satisfied: farama-notifications>=0.0.1 in /home/.local/lib/python3.11/site-packages (from gymnasium[box2d]) (0.0.4)\n",
      "Requirement already satisfied: box2d-py==2.3.5 in /home/.local/lib/python3.11/site-packages (from gymnasium[box2d]) (2.3.5)\n",
      "Requirement already satisfied: pygame>=2.1.3 in /home/.local/lib/python3.11/site-packages (from gymnasium[box2d]) (2.5.2)\n",
      "Requirement already satisfied: swig==4.* in /home/.local/lib/python3.11/site-packages (from gymnasium[box2d]) (4.2.0)\n",
      "Note: you may need to restart the kernel to use updated packages.\n"
     ]
    }
   ],
   "source": [
    "pip install gymnasium[box2d]"
   ]
  }
 ],
 "metadata": {
  "kernelspec": {
   "display_name": "Python3",
   "language": "python",
   "name": "python3"
  },
  "language_info": {
   "codemirror_mode": {
    "name": "ipython",
    "version": 3
   },
   "file_extension": ".py",
   "mimetype": "text/x-python",
   "name": "python",
   "nbconvert_exporter": "python",
   "pygments_lexer": "ipython3",
   "version": "3.11.5"
  }
 },
 "nbformat": 4,
 "nbformat_minor": 5
}
