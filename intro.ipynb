{
 "cells": [
  {
   "cell_type": "markdown",
   "id": "231b15ec-ceef-49ca-8eb8-841f77cb298c",
   "metadata": {},
   "source": [
    "# Markdown\n",
    "\n",
    "This is a markdown field, which can provide handy information to you."
   ]
  },
  {
   "cell_type": "code",
   "execution_count": 4,
   "id": "320c7bf4-f517-4494-b364-940787edf124",
   "metadata": {
    "execution": {
     "iopub.execute_input": "2024-02-16T14:24:23.296557Z",
     "iopub.status.busy": "2024-02-16T14:24:23.294771Z",
     "iopub.status.idle": "2024-02-16T14:24:23.306813Z",
     "shell.execute_reply": "2024-02-16T14:24:23.305159Z",
     "shell.execute_reply.started": "2024-02-16T14:24:23.296457Z"
    },
    "tags": []
   },
   "outputs": [
    {
     "name": "stdout",
     "output_type": "stream",
     "text": [
      "Hallo world!\n"
     ]
    }
   ],
   "source": [
    "# Coding cell\n",
    "print(\"Hallo world!\")"
   ]
  },
  {
   "cell_type": "markdown",
   "id": "a66e2826-dced-4318-bc2d-0c9dbe1fb51a",
   "metadata": {},
   "source": [
    "## Variables and functions between coding cells are shared!"
   ]
  },
  {
   "cell_type": "code",
   "execution_count": 5,
   "id": "ceb9035d-9f3d-4ec9-bf59-756f458acb97",
   "metadata": {
    "execution": {
     "iopub.execute_input": "2024-02-16T14:24:24.040804Z",
     "iopub.status.busy": "2024-02-16T14:24:24.039981Z",
     "iopub.status.idle": "2024-02-16T14:24:24.052109Z",
     "shell.execute_reply": "2024-02-16T14:24:24.049705Z",
     "shell.execute_reply.started": "2024-02-16T14:24:24.040733Z"
    },
    "tags": []
   },
   "outputs": [
    {
     "name": "stdout",
     "output_type": "stream",
     "text": [
      "Variable 1: 1234\n"
     ]
    }
   ],
   "source": [
    "var_1 = 1234\n",
    "print(f\"Variable 1: {var_1}\")"
   ]
  },
  {
   "cell_type": "code",
   "execution_count": 6,
   "id": "77ef67f7-04b5-428c-bea1-d982a5fd1a0b",
   "metadata": {
    "execution": {
     "iopub.execute_input": "2024-02-16T14:24:24.383907Z",
     "iopub.status.busy": "2024-02-16T14:24:24.383043Z",
     "iopub.status.idle": "2024-02-16T14:24:24.397874Z",
     "shell.execute_reply": "2024-02-16T14:24:24.395069Z",
     "shell.execute_reply.started": "2024-02-16T14:24:24.383835Z"
    },
    "tags": []
   },
   "outputs": [
    {
     "name": "stdout",
     "output_type": "stream",
     "text": [
      "Sum: 5555\n"
     ]
    }
   ],
   "source": [
    "var_2 = 4321\n",
    "\n",
    "summation = var_1 + var_2\n",
    "\n",
    "print(f\"Sum: {summation}\")"
   ]
  },
  {
   "cell_type": "code",
   "execution_count": 7,
   "id": "b3649bc7-3d0b-4d26-a451-8926507e67e6",
   "metadata": {
    "execution": {
     "iopub.execute_input": "2024-02-16T14:24:25.037755Z",
     "iopub.status.busy": "2024-02-16T14:24:25.036984Z",
     "iopub.status.idle": "2024-02-16T14:24:25.047436Z",
     "shell.execute_reply": "2024-02-16T14:24:25.045145Z",
     "shell.execute_reply.started": "2024-02-16T14:24:25.037688Z"
    },
    "tags": []
   },
   "outputs": [],
   "source": [
    "def print_func(var):\n",
    "    print(var)"
   ]
  },
  {
   "cell_type": "code",
   "execution_count": 8,
   "id": "0d6498b8-b440-490a-b35a-19fdf134b7b1",
   "metadata": {
    "execution": {
     "iopub.execute_input": "2024-02-16T14:24:25.642871Z",
     "iopub.status.busy": "2024-02-16T14:24:25.641987Z",
     "iopub.status.idle": "2024-02-16T14:24:25.653572Z",
     "shell.execute_reply": "2024-02-16T14:24:25.651575Z",
     "shell.execute_reply.started": "2024-02-16T14:24:25.642797Z"
    },
    "tags": []
   },
   "outputs": [
    {
     "name": "stdout",
     "output_type": "stream",
     "text": [
      "5555\n"
     ]
    }
   ],
   "source": [
    "print_func(summation)"
   ]
  }
 ],
 "metadata": {
  "kernelspec": {
   "display_name": "Python3",
   "language": "python",
   "name": "python3"
  },
  "language_info": {
   "codemirror_mode": {
    "name": "ipython",
    "version": 3
   },
   "file_extension": ".py",
   "mimetype": "text/x-python",
   "name": "python",
   "nbconvert_exporter": "python",
   "pygments_lexer": "ipython3",
   "version": "3.11.5"
  }
 },
 "nbformat": 4,
 "nbformat_minor": 5
}
