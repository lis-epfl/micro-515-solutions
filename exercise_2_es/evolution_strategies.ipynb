{
 "cells": [
  {
   "cell_type": "markdown",
   "id": "4caa7760-e032-462d-94c0-ee96b57360f6",
   "metadata": {},
   "source": [
    "# Exercise 2: Evolution Strategy"
   ]
  },
  {
   "cell_type": "markdown",
   "id": "28de3680-7ebb-41b6-aaaa-2684537dea09",
   "metadata": {},
   "source": [
    "## Import libraries"
   ]
  },
  {
   "cell_type": "code",
   "execution_count": 1,
   "id": "2f0fe76d-ea2b-460e-98d4-bc514197b835",
   "metadata": {
    "execution": {
     "iopub.execute_input": "2024-02-15T15:18:47.444021Z",
     "iopub.status.busy": "2024-02-15T15:18:47.443404Z",
     "iopub.status.idle": "2024-02-15T15:18:47.773130Z",
     "shell.execute_reply": "2024-02-15T15:18:47.771957Z",
     "shell.execute_reply.started": "2024-02-15T15:18:47.443963Z"
    },
    "tags": []
   },
   "outputs": [],
   "source": [
    "import numpy as np\n",
    "\n",
    "np.set_printoptions(precision=4, suppress=True) # for better printing"
   ]
  },
  {
   "cell_type": "markdown",
   "id": "7e4eb65b-571f-4d3a-bc18-5868ce6c1dec",
   "metadata": {},
   "source": [
    "# ES ($\\mu$,$\\lambda$) algorithm\n",
    "In this exercise, we will use Evolution Strategies ($\\mu$,$\\lambda$) as explained in the lecture. The algorithm was introduced with the following steps:\n",
    "\n",
    "- **Step 1:** Set up population size $\\lambda$, number of parents $\\mu$, mutation step size $\\sigma$\n",
    "- **Step 2:** Set up solution guess, e.g, $n\\times 1$ vector $m$\n",
    "- **Step 3:** Generate $\\lambda$ offspring from $m$\n",
    "- **Step 4:** Evaluate $\\lambda$ offspring\n",
    "- **Step 5:** Select $\\mu$ parents with Truncated Rank Selection\n",
    "- **Step 6:** Update population $m$ using fitness-weighted values of $\\mu$ parents\n",
    "\n",
    "- **Repeat from Step 3** until convergence or maximum number of generations\n",
    "\n",
    "In the following, we will implement the algorithm. Step 4. is problem specific and already prepared. We will select the parameters of Step 1. at the end of the exercise for each problem."
   ]
  },
  {
   "cell_type": "markdown",
   "id": "2c43e6cf-8a19-4ad3-bef3-97c619d62e51",
   "metadata": {},
   "source": [
    "## Step 2: Initialise $m$\n",
    "\n",
    "-------\n",
    "### **Assignment**\n",
    "Implement the `initialise_mean`-function. Initialise the mean by using a random uniform distribution. The mean vector should have the same size as the number of parameters specified. Sample from a uniform distribution in range between -4.0 and 4.0 for the initial mean.\n",
    "\n",
    "### **Hint**\n",
    "To sample from a uniform distribution with NumPy, you can use `np.random.uniform`. Check the NumPy [documentation](https://numpy.org/doc/stable/reference/random/generated/numpy.random.uniform.html) for further details. \n",
    "\n",
    "-------"
   ]
  },
  {
   "cell_type": "code",
   "execution_count": 2,
   "id": "f5a235e5-9436-40ca-bc68-b3cbdf0ae471",
   "metadata": {
    "execution": {
     "iopub.execute_input": "2024-02-15T15:18:47.775233Z",
     "iopub.status.busy": "2024-02-15T15:18:47.774876Z",
     "iopub.status.idle": "2024-02-15T15:18:47.791724Z",
     "shell.execute_reply": "2024-02-15T15:18:47.790521Z",
     "shell.execute_reply.started": "2024-02-15T15:18:47.775208Z"
    },
    "tags": []
   },
   "outputs": [],
   "source": [
    "def initialise_mean(num_parameters):\n",
    "    mean_vector = ...\n",
    "    return mean_vector"
   ]
  },
  {
   "cell_type": "code",
   "execution_count": 3,
   "id": "8c8bc6ce-0519-4181-a7fc-9201e4921a01",
   "metadata": {
    "execution": {
     "iopub.execute_input": "2024-02-15T15:18:47.793056Z",
     "iopub.status.busy": "2024-02-15T15:18:47.792767Z",
     "iopub.status.idle": "2024-02-15T15:18:47.877186Z",
     "shell.execute_reply": "2024-02-15T15:18:47.874820Z",
     "shell.execute_reply.started": "2024-02-15T15:18:47.793029Z"
    },
    "tags": []
   },
   "outputs": [],
   "source": [
    "# Solution\n",
    "def initialise_mean(num_parameters):\n",
    "    mean_vector = np.random.uniform(low=-4.0, high=4.0, size=(num_parameters,))\n",
    "    return mean_vector"
   ]
  },
  {
   "cell_type": "code",
   "execution_count": 4,
   "id": "bcecb5c9-da6c-453e-8c6e-d9be07a18094",
   "metadata": {
    "execution": {
     "iopub.execute_input": "2024-02-15T15:18:47.880479Z",
     "iopub.status.busy": "2024-02-15T15:18:47.879733Z",
     "iopub.status.idle": "2024-02-15T15:18:47.932338Z",
     "shell.execute_reply": "2024-02-15T15:18:47.929720Z",
     "shell.execute_reply.started": "2024-02-15T15:18:47.880410Z"
    },
    "tags": []
   },
   "outputs": [
    {
     "name": "stdout",
     "output_type": "stream",
     "text": [
      "Mean shape: (5,)\n",
      "\n",
      "Mean parameters:\n",
      "[-0.2964 -0.3113 -3.1512 -3.3512  1.4983]\n"
     ]
    }
   ],
   "source": [
    "# Test your function:\n",
    "num_parameters = 5\n",
    "mean_vector = initialise_mean(num_parameters=num_parameters)\n",
    "\n",
    "print(f\"Mean shape: {mean_vector.shape}\\n\\nMean parameters:\\n{mean_vector}\")\n",
    "assert len(mean_vector) == num_parameters"
   ]
  },
  {
   "cell_type": "markdown",
   "id": "f96f8acb-4f00-451a-8940-f899437cab80",
   "metadata": {},
   "source": [
    "## Step 3: Generate $\\lambda$ offspring from $m$\n",
    "\n",
    "We introduce the following notation for storing the parameters of our population. The population parameters are stored in a 2D array with dimension (population_size, parameter_size). That means that each row corresponds to the parameters of one population member.\n",
    "\n",
    "|   | Parameter 1   | Parameter 2   | $\\cdots$   | Parameter n   |\n",
    "|:---:|:---:|:---:|:---:|:---:|\n",
    "| Offspring 1   | $\\dots$  | $\\dots$  |  $\\dots$ |  $\\dots$ |\n",
    "| Offspring 2  | $\\dots$  |  $\\dots$ | $\\dots$  |  $\\dots$ |\n",
    "| $\\vdots$  | $\\dots$ | $\\dots$  | $\\dots$  | $\\dots$  |\n",
    "| Offspring m  |  $\\dots$ | $\\dots$  |  $\\dots$ | $\\dots$  |\n",
    "\n",
    "For generating a new offspring the lecture introduced the following formula:\n",
    "\n",
    "\\begin{align}\n",
    "    x_i = m + \\sigma \\mathcal{N}_i(0, \\mathcal{I}) \\qquad \\text{for} \\quad 0 < i \\le \\lambda\n",
    "\\end{align}\n",
    "\n",
    "---\n",
    "### **Assignment**\n",
    "Implement the `generate_offspring`-function with the formula given from the lecture to generate the population as specified above.\n",
    "\n",
    "### **Hint**\n",
    "You can generate multivariate (normal) Gaussian distributions with `np.random.normal`. Check the NumPy [documentation](https://numpy.org/doc/stable/reference/random/generated/numpy.random.normal.html) for further details.\n",
    "\n",
    "---"
   ]
  },
  {
   "cell_type": "code",
   "execution_count": 5,
   "id": "603018ab-d756-4aac-960d-d9afa3d22164",
   "metadata": {
    "execution": {
     "iopub.execute_input": "2024-02-15T15:18:47.940178Z",
     "iopub.status.busy": "2024-02-15T15:18:47.939369Z",
     "iopub.status.idle": "2024-02-15T15:18:48.003847Z",
     "shell.execute_reply": "2024-02-15T15:18:48.001462Z",
     "shell.execute_reply.started": "2024-02-15T15:18:47.940115Z"
    },
    "tags": []
   },
   "outputs": [],
   "source": [
    "def generate_mutated_offspring(population_size, mean_vector, mutation_sigma):\n",
    "    # Duplicate mean candidate along y-dim\n",
    "    population = ...\n",
    "    \n",
    "    # Compute multivariate Gaussian noise\n",
    "    mutation = ...\n",
    "    \n",
    "    # Compute offspring\n",
    "    mutated_population = ...\n",
    "    \n",
    "    return mutated_population"
   ]
  },
  {
   "cell_type": "code",
   "execution_count": 6,
   "id": "9f7e9dd0-5d03-4363-869d-49ffa4301ae0",
   "metadata": {
    "execution": {
     "iopub.execute_input": "2024-02-15T15:18:48.007511Z",
     "iopub.status.busy": "2024-02-15T15:18:48.006654Z",
     "iopub.status.idle": "2024-02-15T15:18:48.048791Z",
     "shell.execute_reply": "2024-02-15T15:18:48.045984Z",
     "shell.execute_reply.started": "2024-02-15T15:18:48.007366Z"
    },
    "tags": []
   },
   "outputs": [],
   "source": [
    "# Solution\n",
    "def generate_mutated_offspring(population_size, mean_vector, mutation_sigma):   \n",
    "    # Duplicate mean candidate along y-dim\n",
    "    population = np.tile(mean_vector,(population_size, 1))\n",
    "    \n",
    "    # Compute multivariate Gaussian noise\n",
    "    num_parameters = len(mean_vector)\n",
    "    perturbation = np.random.normal(\n",
    "        loc=0.0, \n",
    "        scale=1.0, \n",
    "        size=(population_size, num_parameters)\n",
    "    )\n",
    "    \n",
    "    # Compute offspring\n",
    "    mutated_population = population + mutation_sigma * perturbation\n",
    "    \n",
    "    return mutated_population"
   ]
  },
  {
   "cell_type": "code",
   "execution_count": 7,
   "id": "7031b046-eee3-406a-ab5e-7e61daac2e94",
   "metadata": {
    "execution": {
     "iopub.execute_input": "2024-02-15T15:18:48.052176Z",
     "iopub.status.busy": "2024-02-15T15:18:48.051393Z",
     "iopub.status.idle": "2024-02-15T15:18:48.103840Z",
     "shell.execute_reply": "2024-02-15T15:18:48.101233Z",
     "shell.execute_reply.started": "2024-02-15T15:18:48.052107Z"
    },
    "tags": []
   },
   "outputs": [
    {
     "name": "stdout",
     "output_type": "stream",
     "text": [
      "Population shape: (8, 5)\n",
      "Population params:\n",
      "[[1.1091 2.0506 2.8068 4.3635 5.3636]\n",
      " [0.8561 2.0598 2.6816 4.081  5.3522]\n",
      " [1.1508 1.9964 2.9869 4.1841 4.7886]\n",
      " [1.0584 1.9338 2.7807 4.8245 4.6777]\n",
      " [0.496  2.2752 2.6352 3.6575 5.2004]\n",
      " [1.2145 1.6065 2.793  4.4394 4.9926]\n",
      " [1.1369 1.9331 2.8824 4.3476 5.5869]\n",
      " [0.9652 2.1701 3.197  3.9579 4.6231]]\n"
     ]
    }
   ],
   "source": [
    "# Test your function:\n",
    "population_size = 8\n",
    "mean_vector = np.array([1.0, 2.0, 3.0, 4.0, 5.0])\n",
    "mutation_sigma = 0.3\n",
    "\n",
    "population = generate_mutated_offspring(population_size, mean_vector, mutation_sigma)\n",
    "print(f\"Population shape: {population.shape}\")\n",
    "print(f\"Population params:\\n{population}\")"
   ]
  },
  {
   "cell_type": "markdown",
   "id": "943c0d05-fac4-4065-bef7-72eb28c1cc8d",
   "metadata": {},
   "source": [
    "## Step 5: Select $\\mu $ parents with Truncated Rank Selection\n",
    "\n",
    "Following the evaluation of the population, a fitness vector is obtained. This vector is used to organize the population and select the optimum solutions as parents for the upcoming generation. The parents' population is represented as a 2D array with the shape (num_parents $\\lambda$, num_parameters $n$). This process follows the ES ($\\mu$,$\\lambda$) Strategy, implying that the offspring completely replaces the previous generation after each cycle.\n",
    "\n",
    "|   | Parameter 1   | Parameter 2   | $\\cdots$   | Parameter n   |\n",
    "|:---:|:---:|:---:|:---:|:---:|\n",
    "| Parent 1   | $\\dots$  | $\\dots$  |  $\\dots$ |  $\\dots$ |\n",
    "| Parent 2  | $\\dots$  |  $\\dots$ | $\\dots$  |  $\\dots$ |\n",
    "| $\\vdots$  | $\\dots$ | $\\dots$  | $\\dots$  | $\\dots$  |\n",
    "| Parent $\\mu$  |  $\\dots$ | $\\dots$  |  $\\dots$ | $\\dots$  |\n",
    "\n",
    "---\n",
    "### **Assignment**\n",
    "Implement the function `sort_and_select_parents` to select the parents for the next generation based on the current population's fitness values.\n",
    "1. **Sort the Population:** Arrange the population based on the provided fitness values in **descending** order.\n",
    "2. **Truncate the Lower Performers:** Exclude population members that did not perform adequately.\n",
    "\n",
    "Return the selected parents' population along with their corresponding fitness scores. Note that in the problems we aim to solve, a higher fitness score indicates better performance.\n",
    "\n",
    "### **Hint**\n",
    "NumPy provides a handy function for sorting an array callend `np.argsort`, for sorting an array, which returns the indices of the array in **ascending** order. Utilize these indices for **indexing** tto arrange the array. For more information, refer to the documentation on [argsort](https://numpy.org/doc/stable/reference/generated/numpy.argsort.html) and [indexing](https://numpy.org/doc/stable/user/basics.indexing.html), check the documentation. \n",
    "\n",
    "---"
   ]
  },
  {
   "cell_type": "code",
   "execution_count": 8,
   "id": "a791e1f2-dac4-472a-bbb0-e6024b3b9819",
   "metadata": {
    "execution": {
     "iopub.execute_input": "2024-02-15T15:18:48.107036Z",
     "iopub.status.busy": "2024-02-15T15:18:48.106326Z",
     "iopub.status.idle": "2024-02-15T15:18:48.249697Z",
     "shell.execute_reply": "2024-02-15T15:18:48.247025Z",
     "shell.execute_reply.started": "2024-02-15T15:18:48.106965Z"
    },
    "tags": []
   },
   "outputs": [],
   "source": [
    "def sort_and_select_parents(population, fitness, num_parents):\n",
    "    parent_population = ...\n",
    "    parent_fitness = ...\n",
    "    return parent_population, parent_fitness"
   ]
  },
  {
   "cell_type": "code",
   "execution_count": 9,
   "id": "03d9815f-f07c-4a7d-bc2d-3b5e8c2dea2a",
   "metadata": {
    "execution": {
     "iopub.execute_input": "2024-02-15T15:18:48.253131Z",
     "iopub.status.busy": "2024-02-15T15:18:48.252401Z",
     "iopub.status.idle": "2024-02-15T15:18:48.299963Z",
     "shell.execute_reply": "2024-02-15T15:18:48.297413Z",
     "shell.execute_reply.started": "2024-02-15T15:18:48.253058Z"
    },
    "tags": []
   },
   "outputs": [],
   "source": [
    "# Solution\n",
    "def sort_and_select_parents(population, fitness, num_parents):\n",
    "    sorted_indices = np.argsort(fitness)[::-1]\n",
    "    sorted_indices = sorted_indices[0:num_parents]\n",
    "    \n",
    "    parent_population = population[sorted_indices]\n",
    "    parent_fitness = fitness[sorted_indices]\n",
    "    \n",
    "    return parent_population, parent_fitness"
   ]
  },
  {
   "cell_type": "code",
   "execution_count": 10,
   "id": "a262565f-88f9-45dd-bbf7-1c7229fd9250",
   "metadata": {
    "execution": {
     "iopub.execute_input": "2024-02-15T15:18:48.303535Z",
     "iopub.status.busy": "2024-02-15T15:18:48.302757Z",
     "iopub.status.idle": "2024-02-15T15:18:48.362166Z",
     "shell.execute_reply": "2024-02-15T15:18:48.359679Z",
     "shell.execute_reply.started": "2024-02-15T15:18:48.303424Z"
    },
    "tags": []
   },
   "outputs": [
    {
     "name": "stdout",
     "output_type": "stream",
     "text": [
      "Population:\n",
      "[[-0.9465  0.7613  1.3554  1.0655  0.0166]\n",
      " [ 2.7963  0.7238  2.5472  1.0708  2.5522]\n",
      " [ 1.9508  1.8885 -0.0832  2.7253  3.708 ]\n",
      " [ 0.1879 -0.0691  0.7854  2.7975  0.8841]\n",
      " [ 1.8424  0.4237  1.3386  0.0335  3.4204]\n",
      " [ 1.2768  1.5551  1.1647 -1.1492  2.2284]\n",
      " [ 0.5721  2.6282  1.6594  2.8103  0.4368]\n",
      " [ 1.0941  1.2336  1.2113  1.6071 -0.4625]]\n",
      "Population fitness:\n",
      "[0.29   0.6118 0.3828 0.3175 0.5708 0.3922 0.7617 0.048 ]\n",
      "\n",
      "Parent population shape: (4, 5)\n",
      "Parent population:\n",
      "[[ 0.5721  2.6282  1.6594  2.8103  0.4368]\n",
      " [ 2.7963  0.7238  2.5472  1.0708  2.5522]\n",
      " [ 1.8424  0.4237  1.3386  0.0335  3.4204]\n",
      " [ 1.2768  1.5551  1.1647 -1.1492  2.2284]]\n",
      "Parent fitness:\n",
      "[0.7617 0.6118 0.5708 0.3922]\n"
     ]
    }
   ],
   "source": [
    "# Test your function:\n",
    "population_size = 8\n",
    "num_parameters = 5\n",
    "num_parents = 4\n",
    "\n",
    "population = np.random.normal(loc=1.0, size=(population_size, num_parameters))\n",
    "fitness = np.random.uniform(size=(population_size,))\n",
    "\n",
    "parent_population, parent_fitness = sort_and_select_parents(\n",
    "    population=population, \n",
    "    fitness=fitness, \n",
    "    num_parents=num_parents\n",
    ")\n",
    "\n",
    "print(f\"Population:\\n{population}\")\n",
    "print(f\"Population fitness:\\n{fitness}\")\n",
    "print()\n",
    "print(f\"Parent population shape: {parent_population.shape}\")\n",
    "print(f\"Parent population:\\n{parent_population}\")\n",
    "print(f\"Parent fitness:\\n{parent_fitness}\")"
   ]
  },
  {
   "cell_type": "markdown",
   "id": "56446c00-777b-4194-8822-cce0cfecdf6f",
   "metadata": {},
   "source": [
    "## Step 6: Update population $m$ using fitness-weighted values of $\\mu$ parents\n",
    "\n",
    "Once the parent population has been selected, the next step is to generate a new population mean $m$ by considering the fitness of each parent.\n",
    "\n",
    "---\n",
    "### **Assignment**\n",
    "Implement the function `update_population_mean` to calculate the new population mean based on the fitness-weighted values of the parents.\n",
    "1. **Fitness-Weight the Parent Fitness:** Adjust the fitness values of the parents to act as weights in the calculation of the new mean.\n",
    "2. **Calculate Weighted Mean:** Determine the mean of all population members by considering these fitness-weighted values.\n",
    "\n",
    "\n",
    "### **Hint**\n",
    "The weighted mean can generally be computed using the formula:\n",
    "\\begin{align}\n",
    "\\mathbf{\\mu} = \\frac{\\sum_{i=1}^{N} w_i \\cdot \\mathbf{x}_i}{\\sum_{i=1}^{N} w_i}\n",
    "\\end{align}\n",
    "\n",
    "with \n",
    "- $w_i$ represents the weights corresponding to the fitness values of each population member,\n",
    "- $\\mathbf{\\mu}$ is the mean parameters of the current population,\n",
    "- $\\mathbf{x}$ denotes the parameters of each population member.\n",
    "\n",
    "There are multiple ways of weighting the population parameters to the fitness scores. One way is using nested `for`-loops. Computationally more efficient is to use NumPy matrix multiplications like `np.outer`, `np.vstack` and `np.multiply`.\n",
    "\n",
    "---"
   ]
  },
  {
   "cell_type": "code",
   "execution_count": 11,
   "id": "e88bbfe1-d2df-42d3-b785-e20eacb7316b",
   "metadata": {
    "execution": {
     "iopub.execute_input": "2024-02-15T15:18:48.365104Z",
     "iopub.status.busy": "2024-02-15T15:18:48.364443Z",
     "iopub.status.idle": "2024-02-15T15:18:48.412254Z",
     "shell.execute_reply": "2024-02-15T15:18:48.409595Z",
     "shell.execute_reply.started": "2024-02-15T15:18:48.365036Z"
    },
    "tags": []
   },
   "outputs": [],
   "source": [
    "def update_population_mean(parent_population, parent_fitness):\n",
    "    # Normalise parent fitness scores\n",
    "    normed_parents_fitness = ...\n",
    "    \n",
    "    # Compute population weighted to the normed fitness scores  \n",
    "    weighted_parents_population = ...\n",
    "    \n",
    "    # Calculate the sum of weighted parents population\n",
    "    updated_mean_vector = ...\n",
    "    \n",
    "    return updated_mean_vector"
   ]
  },
  {
   "cell_type": "code",
   "execution_count": 12,
   "id": "8ddbd5a6-7eee-490f-9ec2-912e480c59bc",
   "metadata": {
    "execution": {
     "iopub.execute_input": "2024-02-15T15:18:48.415311Z",
     "iopub.status.busy": "2024-02-15T15:18:48.414596Z",
     "iopub.status.idle": "2024-02-15T15:18:48.462742Z",
     "shell.execute_reply": "2024-02-15T15:18:48.460228Z",
     "shell.execute_reply.started": "2024-02-15T15:18:48.415245Z"
    },
    "tags": []
   },
   "outputs": [],
   "source": [
    "# Solution: Without fitness-weighting\n",
    "def update_population_mean(parent_population):    \n",
    "    # Calculate mean of population along y-axis\n",
    "    updated_mean_vector = np.mean(parent_population, axis=0)\n",
    "    \n",
    "    return updated_mean_vector"
   ]
  },
  {
   "cell_type": "code",
   "execution_count": 13,
   "id": "587f52ae-38ea-480d-8109-4f6a8eb4fcaf",
   "metadata": {
    "execution": {
     "iopub.execute_input": "2024-02-15T15:18:48.465940Z",
     "iopub.status.busy": "2024-02-15T15:18:48.465223Z",
     "iopub.status.idle": "2024-02-15T15:18:48.509465Z",
     "shell.execute_reply": "2024-02-15T15:18:48.507055Z",
     "shell.execute_reply.started": "2024-02-15T15:18:48.465859Z"
    },
    "tags": []
   },
   "outputs": [],
   "source": [
    "# Solution: Fitness-weighted\n",
    "def update_population_mean(parent_population, parent_fitness):\n",
    "    # Normalise parent fitness scores\n",
    "    normed_parents_fitness = parent_fitness / np.sum(parent_fitness)\n",
    "    \n",
    "    # Compute population weighted to the normed fitness scores    \n",
    "    weight = np.outer(normed_parents_fitness, np.ones((1, parent_population.shape[1])))\n",
    "    weighted_parents_population = np.multiply(parent_population, weight) #hadamard product\n",
    "    \n",
    "    # Calculate mean of weighted parents population along y-axis\n",
    "    updated_mean_vector = np.sum(weighted_parents_population, axis=0)\n",
    "    \n",
    "    return updated_mean_vector"
   ]
  },
  {
   "cell_type": "code",
   "execution_count": 14,
   "id": "1641156b-7195-465d-9e0f-94dd5f2f9648",
   "metadata": {
    "execution": {
     "iopub.execute_input": "2024-02-15T15:18:48.516244Z",
     "iopub.status.busy": "2024-02-15T15:18:48.515596Z",
     "iopub.status.idle": "2024-02-15T15:18:48.572075Z",
     "shell.execute_reply": "2024-02-15T15:18:48.569788Z",
     "shell.execute_reply.started": "2024-02-15T15:18:48.516153Z"
    },
    "tags": []
   },
   "outputs": [
    {
     "name": "stdout",
     "output_type": "stream",
     "text": [
      "====== Small differences ======\n",
      "Best candidate:\n",
      "[0.6261 0.6564 0.651  1.3742 1.4234]\n",
      "Fitness-weighted mean:\n",
      "[0.7998 0.7424 1.1604 1.0868 0.7028]\n",
      "Population mean unweighted:\n",
      "[1.0968 1.1431 1.2474 1.3701 1.598 ]\n",
      "\n",
      "====== Large differences ======\n",
      "Best candidate:\n",
      "[0.6261 0.6564 0.651  1.3742 1.4234]\n",
      "Fitness-weighted mean:\n",
      "[0.6321 0.6594 0.6688 1.3641 1.3983]\n",
      "Parents population mean unweighted:\n",
      "[0.7908 0.7543 1.1395 1.1033 0.7151]\n"
     ]
    }
   ],
   "source": [
    "# Test your function:\n",
    "np.set_printoptions(precision=4, suppress=True)\n",
    "\n",
    "num_parameters = 5\n",
    "num_parents = 4\n",
    "\n",
    "parent_population = np.random.normal(loc=1.0, scale=0.5, size=(num_parents, num_parameters))\n",
    "parent_fitness = np.random.uniform(size=(num_parents,))\n",
    "\n",
    "mean_vector = update_population_mean(parent_population, parent_fitness)\n",
    "\n",
    "print(\"====== Small differences ======\")\n",
    "print(f\"Best candidate:\\n{parent_population[0,:]}\")\n",
    "print(f\"Fitness-weighted mean:\\n{mean_vector}\")\n",
    "print(f\"Population mean unweighted:\\n{np.mean(population, axis=0)}\")\n",
    "print()\n",
    "\n",
    "# Assume one solution clearly outperforms the others.\n",
    "parent_fitness[0] = 100.0\n",
    "mean_vector = update_population_mean(parent_population, parent_fitness)\n",
    "\n",
    "print(\"====== Large differences ======\")\n",
    "print(f\"Best candidate:\\n{parent_population[0,:]}\")\n",
    "print(f\"Fitness-weighted mean:\\n{mean_vector}\")\n",
    "print(f\"Parents population mean unweighted:\\n{np.mean(parent_population, axis=0)}\")"
   ]
  }
 ],
 "metadata": {
  "kernelspec": {
   "display_name": "Python3",
   "language": "python",
   "name": "python3"
  },
  "language_info": {
   "codemirror_mode": {
    "name": "ipython",
    "version": 3
   },
   "file_extension": ".py",
   "mimetype": "text/x-python",
   "name": "python",
   "nbconvert_exporter": "python",
   "pygments_lexer": "ipython3",
   "version": "3.11.5"
  }
 },
 "nbformat": 4,
 "nbformat_minor": 5
}
