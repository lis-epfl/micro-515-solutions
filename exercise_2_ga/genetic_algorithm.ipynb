{
 "cells": [
  {
   "cell_type": "markdown",
   "id": "4caa7760-e032-462d-94c0-ee96b57360f6",
   "metadata": {},
   "source": [
    "# Exercise 2: Genetic Algorithm\n",
    "The genetic algorithm follows the basic structure of an evolutionary algorithm:\n",
    "1. Generate an initial population.\n",
    "2. Evalute the fitness of each individual of the population.\n",
    "3. Select the best individuals from the population.\n",
    "4. Generate offspring from the population and apply mutations.\n",
    "\n",
    "&rarr; Repeat Step 2. to 4. until convergence or maximum number of generations\n",
    "\n",
    "However, there a number of modifications for the Genetic Algorithm, which we will explore in this exercise.\n"
   ]
  },
  {
   "cell_type": "markdown",
   "id": "103f413f-29fb-4ecf-952e-27b756e8a2ce",
   "metadata": {
    "tags": []
   },
   "source": [
    "## Import libraries"
   ]
  },
  {
   "cell_type": "code",
   "execution_count": 1,
   "id": "c3d051aa-9c16-4d89-8f60-affebc5ae30c",
   "metadata": {
    "execution": {
     "iopub.execute_input": "2024-02-16T14:21:47.283444Z",
     "iopub.status.busy": "2024-02-16T14:21:47.282758Z",
     "iopub.status.idle": "2024-02-16T14:21:47.632865Z",
     "shell.execute_reply": "2024-02-16T14:21:47.630480Z",
     "shell.execute_reply.started": "2024-02-16T14:21:47.283376Z"
    },
    "tags": []
   },
   "outputs": [],
   "source": [
    "import numpy as np\n",
    "\n",
    "%run assets/utility.py\n",
    "np.set_printoptions(precision=4, suppress=True) # for better printing"
   ]
  },
  {
   "cell_type": "markdown",
   "id": "c48d54bd-e853-4122-bb0d-18af729947be",
   "metadata": {},
   "source": [
    "## Chromosome\n",
    "\n",
    "For the Genetic Algorithm, we need a phenotype encoding. For this exercise, we choose a discrete binary representation of our phenotype.\n",
    "\n",
    "---\n",
    "### **Assignment**\n",
    "Implement the `generate_initial_population`-function. It should return a population with the following shape:\n",
    "\n",
    "|   | Chromosome 1   | Chromosome 2   | $\\cdots$   | Chromosome n   |\n",
    "|:---:|:---:|:---:|:---:|:---:|\n",
    "| Candidate 1   | $\\dots$  | $\\dots$  |  $\\dots$ |  $\\dots$ |\n",
    "| Candidate 2  | $\\dots$  |  $\\dots$ | $\\dots$  |  $\\dots$ |\n",
    "| $\\vdots$  | $\\dots$ | $\\dots$  | $\\dots$  | $\\dots$  |\n",
    "| Candidate m  |  $\\dots$ | $\\dots$  |  $\\dots$ | $\\dots$  |\n",
    "\n",
    "---"
   ]
  },
  {
   "cell_type": "code",
   "execution_count": 2,
   "id": "b813086d-e769-46c2-bb80-2b9a44f04346",
   "metadata": {
    "execution": {
     "iopub.execute_input": "2024-02-16T14:21:47.638875Z",
     "iopub.status.busy": "2024-02-16T14:21:47.637901Z",
     "iopub.status.idle": "2024-02-16T14:21:47.648474Z",
     "shell.execute_reply": "2024-02-16T14:21:47.646751Z",
     "shell.execute_reply.started": "2024-02-16T14:21:47.638803Z"
    },
    "tags": []
   },
   "outputs": [],
   "source": [
    "def generate_initial_population(population_size, chromosome_length):\n",
    "    population = ...\n",
    "    return population"
   ]
  },
  {
   "cell_type": "code",
   "execution_count": 3,
   "id": "9d13051a-38b6-4c79-984a-569dccb2f033",
   "metadata": {
    "execution": {
     "iopub.execute_input": "2024-02-16T14:21:47.651335Z",
     "iopub.status.busy": "2024-02-16T14:21:47.650530Z",
     "iopub.status.idle": "2024-02-16T14:21:47.717471Z",
     "shell.execute_reply": "2024-02-16T14:21:47.715278Z",
     "shell.execute_reply.started": "2024-02-16T14:21:47.651287Z"
    },
    "tags": []
   },
   "outputs": [],
   "source": [
    "# Solution 1:\n",
    "def generate_initial_population(population_size, chromosome_length):\n",
    "    population = np.zeros((population_size, chromosome_length))\n",
    "    \n",
    "    chromosome = np.random.randint(0, 2, size=(chromosome_length,))\n",
    "    for i in range(population_size):\n",
    "        np.random.shuffle(chromosome) # shuffles in-place\n",
    "        population[i,:] = chromosome\n",
    "        \n",
    "    return population"
   ]
  },
  {
   "cell_type": "code",
   "execution_count": 4,
   "id": "1172350e-f6eb-4763-982d-43cbd4d59599",
   "metadata": {
    "execution": {
     "iopub.execute_input": "2024-02-16T14:21:47.721350Z",
     "iopub.status.busy": "2024-02-16T14:21:47.720652Z",
     "iopub.status.idle": "2024-02-16T14:21:47.767321Z",
     "shell.execute_reply": "2024-02-16T14:21:47.765063Z",
     "shell.execute_reply.started": "2024-02-16T14:21:47.721286Z"
    },
    "tags": []
   },
   "outputs": [],
   "source": [
    "# Solution 2:\n",
    "def generate_initial_population(population_size, chromosome_length):\n",
    "    binary_values = [0, 1]\n",
    "    probabilities = [0.5, 0.5]\n",
    "    population = np.random.choice(binary_values, size=(population_size, chromosome_length), p=probabilities)\n",
    "\n",
    "    return population"
   ]
  },
  {
   "cell_type": "code",
   "execution_count": 5,
   "id": "c5a698c0-8cf8-4f22-95c0-35a7cbe34920",
   "metadata": {
    "execution": {
     "iopub.execute_input": "2024-02-16T14:21:47.770242Z",
     "iopub.status.busy": "2024-02-16T14:21:47.769546Z",
     "iopub.status.idle": "2024-02-16T14:21:47.814370Z",
     "shell.execute_reply": "2024-02-16T14:21:47.812110Z",
     "shell.execute_reply.started": "2024-02-16T14:21:47.770175Z"
    },
    "tags": []
   },
   "outputs": [],
   "source": [
    "# Solution 3:\n",
    "def generate_initial_population(population_size, chromosome_length):\n",
    "    population = np.random.randint(0, 2, size=(population_size, chromosome_length))\n",
    "    return population"
   ]
  },
  {
   "cell_type": "code",
   "execution_count": 6,
   "id": "bd848a1c-188f-4925-846c-f350e09b7035",
   "metadata": {
    "execution": {
     "iopub.execute_input": "2024-02-16T14:21:47.817460Z",
     "iopub.status.busy": "2024-02-16T14:21:47.816763Z",
     "iopub.status.idle": "2024-02-16T14:21:47.864858Z",
     "shell.execute_reply": "2024-02-16T14:21:47.862614Z",
     "shell.execute_reply.started": "2024-02-16T14:21:47.817396Z"
    },
    "tags": []
   },
   "outputs": [
    {
     "name": "stdout",
     "output_type": "stream",
     "text": [
      "Population: (8, 5)\n",
      "[[0 0 1 0 0]\n",
      " [1 0 1 0 1]\n",
      " [0 1 1 0 0]\n",
      " [0 1 1 0 1]\n",
      " [1 0 0 1 0]\n",
      " [1 1 0 1 1]\n",
      " [0 1 0 0 1]\n",
      " [0 1 1 0 1]]\n"
     ]
    }
   ],
   "source": [
    "# Test your function:\n",
    "population_size = 8\n",
    "chromosome_length = 5\n",
    "\n",
    "population = generate_initial_population(population_size, chromosome_length)\n",
    "print(f\"Population: {population.shape}\\n{population}\")"
   ]
  },
  {
   "cell_type": "markdown",
   "id": "298c03a3-fe5e-4f7b-b538-53ee97370cd2",
   "metadata": {},
   "source": [
    "## Step 3: Select the best individuals from population with Tournament Selection\n",
    "\n",
    "For selecting the parents of the next generation or the surviving individuals (if elitism is enabled), we use tournament selection.\n",
    "\n",
    "### Steps for tournament selection:\n",
    "1. Pick randomly $k$ individuals from the population.\n",
    "2. Choose the individual with the highest fitness and make a copy.\n",
    "3. Put all individuals back in the population.\n",
    "\n",
    "---\n",
    "### **Assignment**\n",
    "Implement the `tournament_selection`-function as described above and in the lecture.\n",
    "\n",
    "Ensure that the shape of the selected individual is fitting. For example, reshape an array with shape `(12,)` to `(1, 12)` with\n",
    "```python\n",
    "reshaped_array = array.reshape(1, -1)\n",
    "```\n",
    "\n",
    "---"
   ]
  },
  {
   "cell_type": "code",
   "execution_count": 7,
   "id": "a8dbfee9-6357-49f0-a840-f780c05d8bd1",
   "metadata": {
    "execution": {
     "iopub.execute_input": "2024-02-16T14:21:47.872919Z",
     "iopub.status.busy": "2024-02-16T14:21:47.872192Z",
     "iopub.status.idle": "2024-02-16T14:21:47.914796Z",
     "shell.execute_reply": "2024-02-16T14:21:47.912369Z",
     "shell.execute_reply.started": "2024-02-16T14:21:47.872848Z"
    },
    "tags": []
   },
   "outputs": [],
   "source": [
    "def tournament_selection(population, fitness, tournament_size):\n",
    "    best_individual_from_tournamet = ...\n",
    "    return best_individual_from_tournamet"
   ]
  },
  {
   "cell_type": "code",
   "execution_count": 8,
   "id": "75dea83e-0200-4f3b-96d8-b42cf9004d00",
   "metadata": {
    "execution": {
     "iopub.execute_input": "2024-02-16T14:21:47.918635Z",
     "iopub.status.busy": "2024-02-16T14:21:47.917221Z",
     "iopub.status.idle": "2024-02-16T14:21:47.963668Z",
     "shell.execute_reply": "2024-02-16T14:21:47.961342Z",
     "shell.execute_reply.started": "2024-02-16T14:21:47.918561Z"
    },
    "tags": []
   },
   "outputs": [],
   "source": [
    "# Solution 1:\n",
    "def tournament_selection(population, fitness, tournament_size):\n",
    "    indices_list = np.random.choice(len(population), tournament_size, replace=False)\n",
    "    chosen_parents = np.array([population[i] for i in indices_list])\n",
    "    parent_fitnesses = np.array([fitnesses[i] for i in indices_list])\n",
    "    max_fitness_idx = np.argmax(parent_fitnesses)\n",
    "\n",
    "    return chosen_parents[max_fitness_idx].reshape(1, -1)"
   ]
  },
  {
   "cell_type": "code",
   "execution_count": 9,
   "id": "61cca675-89d9-4f8d-84b3-6cb59022c0b1",
   "metadata": {
    "execution": {
     "iopub.execute_input": "2024-02-16T14:21:47.966951Z",
     "iopub.status.busy": "2024-02-16T14:21:47.966204Z",
     "iopub.status.idle": "2024-02-16T14:21:48.011103Z",
     "shell.execute_reply": "2024-02-16T14:21:48.009100Z",
     "shell.execute_reply.started": "2024-02-16T14:21:47.966888Z"
    },
    "tags": []
   },
   "outputs": [],
   "source": [
    "# Solution 2:\n",
    "def tournament_selection(population, fitnesses, tournament_size):\n",
    "    # Choose tournament participants\n",
    "    indices = np.random.choice(population.shape[0], tournament_size, replace=False)\n",
    "    \n",
    "    # Evaluate winner\n",
    "    contenders_fitness = fitnesses[indices]\n",
    "    max_contenders_fitness_index = np.argmax(contenders_fitness)\n",
    "    winner_index = indices[max_contenders_fitness_index]\n",
    "    \n",
    "    winner = population[winner_index,:]\n",
    "    \n",
    "    return winner.reshape(1, -1)"
   ]
  },
  {
   "cell_type": "code",
   "execution_count": 10,
   "id": "040a296c-0dc4-4b7c-8729-fb774926a1d8",
   "metadata": {
    "execution": {
     "iopub.execute_input": "2024-02-16T14:21:48.014111Z",
     "iopub.status.busy": "2024-02-16T14:21:48.013423Z",
     "iopub.status.idle": "2024-02-16T14:21:48.136360Z",
     "shell.execute_reply": "2024-02-16T14:21:48.134115Z",
     "shell.execute_reply.started": "2024-02-16T14:21:48.014050Z"
    },
    "tags": []
   },
   "outputs": [
    {
     "name": "stdout",
     "output_type": "stream",
     "text": [
      "Fitness:\n",
      "[0.6914 0.4634 0.1657 0.4586 0.7359 0.5531 0.08   0.3294] at 4\n",
      "Population:\n",
      "[[1 0 1 0 0 1 1 0 0 0 1 1]\n",
      " [1 0 0 1 1 0 1 1 1 0 1 0]\n",
      " [0 1 0 0 1 1 0 0 0 1 0 0]\n",
      " [1 0 0 0 0 0 1 0 0 0 1 0]\n",
      " [1 0 1 1 1 0 0 1 1 0 1 1]\n",
      " [0 1 0 0 0 0 0 0 1 0 0 1]\n",
      " [0 1 1 1 0 1 0 1 0 0 1 1]\n",
      " [1 1 0 0 0 1 1 0 1 0 0 1]]\n",
      "Tournament winner: [[1 0 1 1 1 0 0 1 1 0 1 1]] at 4\n",
      "Tournament winner shape: (1, 12)\n"
     ]
    }
   ],
   "source": [
    "# Test your function\n",
    "population_size = 8\n",
    "chromosome_length = 12\n",
    "\n",
    "population = np.random.randint(0, 2, size=(population_size, chromosome_length))\n",
    "fitness = np.random.uniform(size=(population_size,))\n",
    "tournament_size = 8 # we can only test for the full population, otherwise you need to add prints in your function.\n",
    "\n",
    "winner = tournament_selection(population, fitness, tournament_size)\n",
    "\n",
    "print(f\"Fitness:\\n{fitness} at {np.argmax(fitness)}\")\n",
    "print(f\"Population:\\n{population}\")\n",
    "\n",
    "index = search_index_in_columns(population, winner)\n",
    "print(f\"Tournament winner: {winner} at {index}\")\n",
    "print(f\"Tournament winner shape: {winner.shape}\")"
   ]
  },
  {
   "cell_type": "markdown",
   "id": "f757e423-bd27-4c7a-95ea-010754b327a2",
   "metadata": {},
   "source": [
    "## Step 4a: Crossover\n",
    "\n",
    "Crossover tries to emulate reproduction, which we can see in nature. With crossover, we can recombine the genetic material to form a new individual offspring. In this exercise, we implement a simple one point reciprocal crossover. As demonstrated in the lecture:\n",
    "\n",
    "<img src=\"assets/one-point-crossover.png\" width=\"550\">\n",
    "\n",
    "---\n",
    "### **Assignment**\n",
    "Implement the `stochastic_one_point_crossover`-function.\n",
    "1. Randomly select a index for slicing the chromosomes.\n",
    "2. Recombine the material two generate two unique chromosomes by interchanging the segments as demonstrated in the figure.\n",
    "3. Add a probability evaluation. Generate with the a probability of the parameter `cross_probability` the crossovered offspring, otherwise return the parents as offspring.\n",
    "\n",
    "### **Hint**\n",
    "You can slice an array by using the indexing operation in NumPy.\n",
    "\n",
    "```python\n",
    "array_slice = array_1[0:index]\n",
    "```\n",
    "Be careful, we are working with column vectors here. We are therefore always working with the first row (index 0).\n",
    "\n",
    "```python\n",
    "array_slice = array_1[0, 0:index]\n",
    "```\n",
    "\n",
    "You can merge two slices by using `np.concatenate` or `np.hstack` (`np.vstack` does not work here). Debugging your code might require writing some prints in the function. After you ensured, that the code is working as desired, do not forget to remove the prints afterwards.\n",
    "\n",
    "---"
   ]
  },
  {
   "cell_type": "code",
   "execution_count": 11,
   "id": "38be1c2b-92f3-4337-8aff-461c19c89b48",
   "metadata": {
    "execution": {
     "iopub.execute_input": "2024-02-16T14:21:48.139192Z",
     "iopub.status.busy": "2024-02-16T14:21:48.138529Z",
     "iopub.status.idle": "2024-02-16T14:21:48.180312Z",
     "shell.execute_reply": "2024-02-16T14:21:48.178134Z",
     "shell.execute_reply.started": "2024-02-16T14:21:48.139137Z"
    },
    "tags": []
   },
   "outputs": [],
   "source": [
    "def stochastic_one_point_crossover(parent_1, parent_2, cross_probability):\n",
    "    ..."
   ]
  },
  {
   "cell_type": "code",
   "execution_count": 12,
   "id": "470e5e27-1f91-4c39-9463-a4807f8ca36f",
   "metadata": {
    "execution": {
     "iopub.execute_input": "2024-02-16T14:21:48.183229Z",
     "iopub.status.busy": "2024-02-16T14:21:48.182518Z",
     "iopub.status.idle": "2024-02-16T14:21:48.230362Z",
     "shell.execute_reply": "2024-02-16T14:21:48.228027Z",
     "shell.execute_reply.started": "2024-02-16T14:21:48.183167Z"
    },
    "tags": []
   },
   "outputs": [],
   "source": [
    "# Solution 1:\n",
    "def stochastic_one_point_crossover(parent_1, parent_2, crossover_probability):\n",
    "    if np.random.rand() < crossover_probability:\n",
    "        idx = np.random.randint(1, parent_1.shape[1])\n",
    "        \n",
    "        child_1 = np.concatenate((parent_1[0, :idx], parent_2[0, idx:]))\n",
    "        child_2 = np.concatenate((parent_2[0, :idx], parent_1[0, idx:]))\n",
    "        \n",
    "        return child_1, child_2\n",
    "    else:\n",
    "        child_1 = parent_1\n",
    "        child_2 = parent_2\n",
    "        \n",
    "        return child_1, child_2"
   ]
  },
  {
   "cell_type": "code",
   "execution_count": 13,
   "id": "430f3c3f-e4c7-47c4-8c9d-573dd97e9baf",
   "metadata": {
    "execution": {
     "iopub.execute_input": "2024-02-16T14:21:48.233682Z",
     "iopub.status.busy": "2024-02-16T14:21:48.233022Z",
     "iopub.status.idle": "2024-02-16T14:21:48.276766Z",
     "shell.execute_reply": "2024-02-16T14:21:48.274325Z",
     "shell.execute_reply.started": "2024-02-16T14:21:48.233623Z"
    },
    "tags": []
   },
   "outputs": [],
   "source": [
    "# Solution 2:\n",
    "def stochastic_one_point_crossover(parent_1, parent_2, crossover_probability):\n",
    "    if np.random.rand() >= crossover_probability:\n",
    "        return parent_1, parent_2\n",
    "    \n",
    "    idx = np.random.randint(low=1, high=parent_1.shape[1])\n",
    "    \n",
    "    child_1 = np.concatenate((parent_1[0, :idx], parent_2[0, idx:]))\n",
    "    child_2 = np.concatenate((parent_2[0, :idx], parent_1[0, idx:]))\n",
    "    \n",
    "    child_1 = child_1.reshape(1, -1)\n",
    "    child_2 = child_2.reshape(1, -1)\n",
    "    \n",
    "    return child_1, child_2"
   ]
  },
  {
   "cell_type": "code",
   "execution_count": 14,
   "id": "d21e7606-52d0-4525-8782-53a2ab07f30f",
   "metadata": {
    "execution": {
     "iopub.execute_input": "2024-02-16T14:21:48.280344Z",
     "iopub.status.busy": "2024-02-16T14:21:48.279613Z",
     "iopub.status.idle": "2024-02-16T14:21:48.346352Z",
     "shell.execute_reply": "2024-02-16T14:21:48.343411Z",
     "shell.execute_reply.started": "2024-02-16T14:21:48.280283Z"
    },
    "tags": []
   },
   "outputs": [
    {
     "name": "stdout",
     "output_type": "stream",
     "text": [
      "Parent 1: [[0 0 0 1 1 1]]\n",
      "Parent 2: [[0 1 0 1 1 0]]\n",
      "\n",
      "Child 1: [[0 1 0 1 1 0]]\n",
      "Child 2: [[0 0 0 1 1 1]]\n",
      "\n",
      "Parent 1 shape: (1, 6)\n",
      "Parent 2 shape: (1, 6)\n",
      "\n",
      "Child 1 shape: (1, 6)\n",
      "Child 2 shape: (1, 6)\n",
      "\n"
     ]
    }
   ],
   "source": [
    "# Test your function:\n",
    "chromosome_length = 6\n",
    "crossover_probability = 1.0\n",
    "\n",
    "parent_1 = np.random.randint(0, 2, size=(1, chromosome_length))\n",
    "parent_2 = np.random.randint(0, 2, size=(1, chromosome_length))\n",
    "\n",
    "child_1, child_2 = stochastic_one_point_crossover(parent_1, parent_2, crossover_probability)\n",
    "\n",
    "print(f\"Parent 1: {parent_1}\\nParent 2: {parent_2}\\n\")\n",
    "print(f\"Child 1: {child_1}\\nChild 2: {child_2}\\n\")\n",
    "\n",
    "print(f\"Parent 1 shape: {parent_1.shape}\\nParent 2 shape: {parent_2.shape}\\n\")\n",
    "print(f\"Child 1 shape: {child_1.shape}\\nChild 2 shape: {child_2.shape}\\n\")"
   ]
  },
  {
   "cell_type": "markdown",
   "id": "968b03ed-fe9e-435a-ba5f-79907c3d7fa0",
   "metadata": {},
   "source": [
    "## Step 4b: Mutation\n",
    "\n",
    "In evolution, we can regularly observe mutations of gens (e.g. due to environmental factors). These mutations can result in the discovery of new solutions.\n",
    "\n",
    "---\n",
    "### **Assignment**\n",
    "Implement the `mutate_genotypes`-function. Each chromosome of each member of the offspring population should change their value with `mutation_probability`.\n",
    "\n",
    "---"
   ]
  },
  {
   "cell_type": "code",
   "execution_count": 15,
   "id": "0d65ad2c-fb84-4f2a-a61d-7a85a0e966e2",
   "metadata": {
    "execution": {
     "iopub.execute_input": "2024-02-16T14:21:48.349515Z",
     "iopub.status.busy": "2024-02-16T14:21:48.348853Z",
     "iopub.status.idle": "2024-02-16T14:21:48.392405Z",
     "shell.execute_reply": "2024-02-16T14:21:48.389848Z",
     "shell.execute_reply.started": "2024-02-16T14:21:48.349453Z"
    }
   },
   "outputs": [],
   "source": [
    "def mutate_genotypes(population, mutation_probability):\n",
    "    ..."
   ]
  },
  {
   "cell_type": "code",
   "execution_count": 16,
   "id": "c42d719a-0d36-4a9a-b154-e208e4e0eabf",
   "metadata": {
    "execution": {
     "iopub.execute_input": "2024-02-16T14:21:48.396617Z",
     "iopub.status.busy": "2024-02-16T14:21:48.395111Z",
     "iopub.status.idle": "2024-02-16T14:21:48.443102Z",
     "shell.execute_reply": "2024-02-16T14:21:48.440920Z",
     "shell.execute_reply.started": "2024-02-16T14:21:48.396549Z"
    },
    "tags": []
   },
   "outputs": [],
   "source": [
    "# Solution 1:\n",
    "def mutate_genotypes(population, mutation_probability):\n",
    "    mutated_population = population.copy()\n",
    "\n",
    "    for i in range(len(population)):\n",
    "        for j in range(len(population[i])):\n",
    "            if np.random.rand() < mutation_probability:\n",
    "                if mutated_population[i][j] == 0:\n",
    "                    mutated_population[i][j] = 1\n",
    "                else:\n",
    "                    mutated_population[i][j] = 0\n",
    "\n",
    "    return mutated_population"
   ]
  },
  {
   "cell_type": "code",
   "execution_count": 17,
   "id": "fd8c408c-3ed3-4466-b09a-66671f73411a",
   "metadata": {
    "execution": {
     "iopub.execute_input": "2024-02-16T14:21:48.446332Z",
     "iopub.status.busy": "2024-02-16T14:21:48.445663Z",
     "iopub.status.idle": "2024-02-16T14:21:48.488270Z",
     "shell.execute_reply": "2024-02-16T14:21:48.485827Z",
     "shell.execute_reply.started": "2024-02-16T14:21:48.446269Z"
    },
    "tags": []
   },
   "outputs": [],
   "source": [
    "# Solution 2:\n",
    "def mutate_genotypes(population, mutation_probability):\n",
    "    # Create a boolean mask where True indicates potential mutation sites\n",
    "    mutation_mask = np.random.rand(*population.shape) < mutation_probability\n",
    "    \n",
    "    # Flip the bits where the mask is True\n",
    "    mutated_population = population ^ mutation_mask\n",
    "\n",
    "    return mutated_population"
   ]
  },
  {
   "cell_type": "code",
   "execution_count": 18,
   "id": "6e3af949-af8d-4c09-a96c-1ca4c4027cf4",
   "metadata": {
    "execution": {
     "iopub.execute_input": "2024-02-16T14:21:48.491883Z",
     "iopub.status.busy": "2024-02-16T14:21:48.491062Z",
     "iopub.status.idle": "2024-02-16T14:21:48.544377Z",
     "shell.execute_reply": "2024-02-16T14:21:48.542136Z",
     "shell.execute_reply.started": "2024-02-16T14:21:48.491779Z"
    },
    "tags": []
   },
   "outputs": [
    {
     "name": "stdout",
     "output_type": "stream",
     "text": [
      "Original population:\n",
      "[[1 0 0 1 0 1 0 1 0 0 1 0 0 1 0]\n",
      " [1 0 0 0 0 0 0 0 0 1 1 1 1 1 1]\n",
      " [1 0 1 0 1 0 1 1 1 0 1 0 0 0 0]\n",
      " [1 0 1 1 0 1 1 0 0 1 0 1 0 1 0]\n",
      " [0 0 0 0 1 0 1 0 0 0 1 0 0 0 0]\n",
      " [0 0 0 0 1 0 1 0 0 0 0 1 0 1 0]\n",
      " [0 1 0 0 0 1 1 1 1 0 0 0 0 0 0]\n",
      " [0 0 1 1 0 1 1 1 0 0 0 1 0 0 1]\n",
      " [1 1 1 0 1 1 1 1 0 0 1 1 1 1 0]\n",
      " [0 1 1 1 1 0 0 0 0 1 0 0 1 1 0]]\n",
      "\n",
      "Mutated population:\n",
      "[[1 0 0 1 0 1 0 1 \u001b[91m1\u001b[0m 0 1 0 0 1 0]\n",
      " [1 0 0 0 0 0 0 0 0 1 1 1 1 1 1]\n",
      " [1 0 1 0 1 0 1 1 1 0 1 0 0 0 0]\n",
      " [1 0 1 1 0 1 1 0 0 1 \u001b[91m1\u001b[0m 1 0 1 0]\n",
      " [0 0 0 0 1 0 1 0 0 0 1 0 0 0 0]\n",
      " [0 0 0 0 1 0 1 0 0 0 0 1 0 1 0]\n",
      " [0 1 0 0 0 1 1 1 1 0 0 \u001b[91m1\u001b[0m 0 0 0]\n",
      " [0 0 1 1 0 1 1 1 0 0 0 1 0 0 1]\n",
      " [1 1 1 0 1 1 1 1 0 0 1 1 1 1 0]\n",
      " [0 \u001b[91m0\u001b[0m 1 1 1 0 0 0 0 1 0 0 1 1 0]]\n",
      "--> (mutations are highlighted)\n"
     ]
    }
   ],
   "source": [
    "# Test your function:\n",
    "mutation_probability = 0.05\n",
    "population_size = 10\n",
    "chromosome_length = 15\n",
    "\n",
    "population = np.random.randint(0, 2, size=(population_size, chromosome_length))\n",
    "\n",
    "mutated_population = mutate_genotypes(population, mutation_probability)\n",
    "\n",
    "print(f\"Original population:\\n{population}\\n\")\n",
    "print(\"Mutated population:\")\n",
    "highlight_mutations(population, mutated_population)\n",
    "print(\"--> (mutations are highlighted)\")"
   ]
  },
  {
   "cell_type": "code",
   "execution_count": null,
   "id": "c1e3cf6d-70af-4f27-9334-7e193f74c230",
   "metadata": {},
   "outputs": [],
   "source": []
  }
 ],
 "metadata": {
  "kernelspec": {
   "display_name": "Python3",
   "language": "python",
   "name": "python3"
  },
  "language_info": {
   "codemirror_mode": {
    "name": "ipython",
    "version": 3
   },
   "file_extension": ".py",
   "mimetype": "text/x-python",
   "name": "python",
   "nbconvert_exporter": "python",
   "pygments_lexer": "ipython3",
   "version": "3.11.5"
  }
 },
 "nbformat": 4,
 "nbformat_minor": 5
}
